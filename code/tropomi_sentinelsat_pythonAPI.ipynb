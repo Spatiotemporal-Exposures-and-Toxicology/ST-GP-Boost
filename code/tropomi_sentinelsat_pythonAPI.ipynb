{
 "cells": [
  {
   "cell_type": "markdown",
   "id": "89d7ec3e",
   "metadata": {},
   "source": [
    "# Detailed instruction taken from [this] (https://www.star.nesdis.noaa.gov/atmospheric-composition-training/python_tropomi_level2_download.php) link"
   ]
  },
  {
   "cell_type": "markdown",
   "id": "6619e197",
   "metadata": {},
   "source": [
    " "
   ]
  },
  {
   "cell_type": "markdown",
   "id": "498b2d71",
   "metadata": {},
   "source": [
    "### Load libraries.  SentinelAPI to access s5phub and ipywidgets to create the interactive cell. May need to run ``jupyter nbextension enable --py widgetsnbextension'' from the console to activate widgets."
   ]
  },
  {
   "cell_type": "code",
   "execution_count": 8,
   "id": "d60d7eee-a6d9-4568-b0ab-cf16c08d2ae8",
   "metadata": {
    "tags": []
   },
   "outputs": [],
   "source": [
    "# Import Python packages\n",
    "\n",
    "# Module to connect to the Copernicus Open Access Hubs\n",
    "from sentinelsat import SentinelAPI\n",
    "\n",
    "# Module for manipulating dates and times\n",
    "import datetime\n",
    "\n",
    "# Module to set filesystem paths appropriate for user's operating system\n",
    "from pathlib import Path\n",
    "\n",
    "# Modules to create interactive menus in Jupyter Notebook\n",
    "from IPython.display import display\n",
    "import ipywidgets as widgets"
   ]
  },
  {
   "cell_type": "markdown",
   "id": "7aa5d87f",
   "metadata": {},
   "source": [
    "\n",
    "\n",
    "### Do not run it twice. Run once and then select drop-down menus after that."
   ]
  },
  {
   "cell_type": "code",
   "execution_count": 11,
   "id": "cdee7356-aeea-49b9-8f05-6380d4bcf850",
   "metadata": {
    "scrolled": false,
    "tags": []
   },
   "outputs": [
    {
     "name": "stdout",
     "output_type": "stream",
     "text": [
      "If you change menu selections (e.g., to run another search), do NOT re-run this block!\n",
      "Re-running will re-set all menus to their defaults!\n"
     ]
    },
    {
     "data": {
      "application/vnd.jupyter.widget-view+json": {
       "model_id": "fde78d5da4794ff6abe3b2d345c82a80",
       "version_major": 2,
       "version_minor": 0
      },
      "text/plain": [
       "Dropdown(description='Product:', layout=Layout(width='300px'), options=(('Aerosol Index', 'AI'), ('Aerosol Lay…"
      ]
     },
     "metadata": {},
     "output_type": "display_data"
    },
    {
     "data": {
      "application/vnd.jupyter.widget-view+json": {
       "model_id": "2bd5ccac81bc4d27bed4d5669959d513",
       "version_major": 2,
       "version_minor": 0
      },
      "text/plain": [
       "Dropdown(description='Data Latency:', layout=Layout(width='300px'), options=('Near real time', 'Offline', 'Rep…"
      ]
     },
     "metadata": {},
     "output_type": "display_data"
    },
    {
     "data": {
      "application/vnd.jupyter.widget-view+json": {
       "model_id": "fd0277e53f9c4a0885babbd03eb085c5",
       "version_major": 2,
       "version_minor": 0
      },
      "text/plain": [
       "HBox(children=(Dropdown(description='Start Year:', layout=Layout(width='300px'), options=('2018', '2019', '202…"
      ]
     },
     "metadata": {},
     "output_type": "display_data"
    },
    {
     "data": {
      "application/vnd.jupyter.widget-view+json": {
       "model_id": "4eb10a8f130442dd94a498dc4b5e1b70",
       "version_major": 2,
       "version_minor": 0
      },
      "text/plain": [
       "HBox(children=(Dropdown(description='End Year:', layout=Layout(width='300px'), options=('2018', '2019', '2020'…"
      ]
     },
     "metadata": {},
     "output_type": "display_data"
    },
    {
     "data": {
      "application/vnd.jupyter.widget-view+json": {
       "model_id": "f2c19fabb67b423383799b4fe97cb97f",
       "version_major": 2,
       "version_minor": 0
      },
      "text/plain": [
       "Label(value='ENTER LATITUDE/LONGITUDE BOUNDARIES FOR SEARCH AREA (use up/down arrows or type in value)', layou…"
      ]
     },
     "metadata": {},
     "output_type": "display_data"
    },
    {
     "data": {
      "application/vnd.jupyter.widget-view+json": {
       "model_id": "27a08b64fb1247dbaf00761856f4c706",
       "version_major": 2,
       "version_minor": 0
      },
      "text/plain": [
       "HBox(children=(BoundedFloatText(value=0.0, description='Northern-most Latitude:', layout=Layout(height='30px',…"
      ]
     },
     "metadata": {},
     "output_type": "display_data"
    },
    {
     "data": {
      "application/vnd.jupyter.widget-view+json": {
       "model_id": "5ec930b1f763457cac422b90fe371fcb",
       "version_major": 2,
       "version_minor": 0
      },
      "text/plain": [
       "HBox(children=(BoundedFloatText(value=0.0, description='Western-most Longitude:', layout=Layout(height='30px',…"
      ]
     },
     "metadata": {},
     "output_type": "display_data"
    },
    {
     "data": {
      "application/vnd.jupyter.widget-view+json": {
       "model_id": "0771c9adbacb4ca88560888427e16d34",
       "version_major": 2,
       "version_minor": 0
      },
      "text/plain": [
       "HBox(children=(BoundedFloatText(value=0.0, description='Southern-most Latitude:', layout=Layout(height='30px',…"
      ]
     },
     "metadata": {},
     "output_type": "display_data"
    }
   ],
   "source": [
    "# Enter product, data latency, observation start/end dates and domain boundaries for file search\n",
    "# Selections are made using interactive Jupyter Notebook widgets\n",
    "# Run this block *once* to generate menus\n",
    "# When main function is run, it reads \".value\" of each menu selection\n",
    "# Do NOT re-run block if you change menu selections (re-running block resets menus to defaults)!\n",
    "\n",
    "# Formatting settings for drop-down menus\n",
    "style = {'description_width':'140px'}\n",
    "layout = widgets.Layout(width='300px')\n",
    "\n",
    "# Create drop-down menus using widgets\n",
    "product = widgets.Dropdown(options=[('Aerosol Index', 'AI'), ('Aerosol Layer Height', 'ALH'), ('Carbon Monoxide', 'CO'), ('Formaldehyde', 'HCHO'), ('Nitrogen Dioxide', 'NO2'), ('Sulfur Dioxide', 'SO2')], description='Product:', style=style, layout=layout)\n",
    "latency = widgets.Dropdown(options=[('Near real time'), ('Offline'), ('Reprocessing') ], description='Data Latency:', style=style, layout=layout)\n",
    "start_year = widgets.Dropdown(options=[('2018'), ('2019'), ('2020'), ('2021'), ('2022'), ('2023'), ('2024')], description='Start Year:', style=style, layout=layout)\n",
    "start_month = widgets.Dropdown(options=[('Jan', '01'), ('Feb', '02'), ('Mar', '03'), ('Apr', '04'), ('May', '05'), ('Jun', '06'), ('Jul', '07'), ('Aug', '08'), ('Sep', '09'), ('Oct', '10'), ('Nov', '11'), ('Dec', '12')], description='Start Month:', style=style, layout=layout)\n",
    "start_day = widgets.Dropdown(options=[('01'), ('02'), ('03'), ('04'), ('05'), ('06'), ('07'), ('08'), ('09'), ('10'), ('11'), ('12'), ('13'), ('14'), ('15'), ('16'), ('17'), ('18'), ('19'), ('20'), ('21'), ('22'), ('23'), ('24'), ('25'), ('26'), ('27'), ('28'), ('29'), ('30'), ('31')], description='Start Day:', style=style, layout=layout)\n",
    "end_year = widgets.Dropdown(options=[('2018'), ('2019'), ('2020'), ('2021'), ('2022'), ('2023'), ('2024')], description='End Year:', style=style, layout=layout)\n",
    "end_month = widgets.Dropdown(options=[('Jan', '01'), ('Feb', '02'), ('Mar', '03'), ('Apr', '04'), ('May', '05'), ('Jun', '06'), ('Jul', '07'), ('Aug', '08'), ('Sep', '09'), ('Oct', '10'), ('Nov', '11'), ('Dec', '12')], description='End Month:', style=style, layout=layout)\n",
    "end_day = widgets.Dropdown(options=[('01'), ('02'), ('03'), ('04'), ('05'), ('06'), ('07'), ('08'), ('09'), ('10'), ('11'), ('12'), ('13'), ('14'), ('15'), ('16'), ('17'), ('18'), ('19'), ('20'), ('21'), ('22'), ('23'), ('24'), ('25'), ('26'), ('27'), ('28'), ('29'), ('30'), ('31')], description='End Day:', style=style, layout=layout)\n",
    "\n",
    "# Caption for map domain boundaries\n",
    "domain_caption = widgets.Label(value='ENTER LATITUDE/LONGITUDE BOUNDARIES FOR SEARCH AREA (use up/down arrows or type in value)', layout=widgets.Layout(height='30px'))\n",
    "\n",
    "# Format observation start/end dates menus to display side-by-side\n",
    "start_date = widgets.HBox([start_year, start_month, start_day])\n",
    "end_date = widgets.HBox([end_year, end_month, end_day])\n",
    "\n",
    "# Create numerical (float) text entry widgets for map boundary corners\n",
    "west_lon_float = widgets.BoundedFloatText(description='Western-most Longitude:', value=0, min=-180, max=180, disabled=False, layout=widgets.Layout(width='250px', height='30px'), style={'description_width':'150px'})\n",
    "east_lon_float = widgets.BoundedFloatText(description='Eastern-most Longitude:', value=0, min=-180, max=180, disabled=False, layout=widgets.Layout(width='250px', height='30px'), style={'description_width':'150px'})\n",
    "lon_label = widgets.Label(value='(use negative values to indicate °W, e.g., 100 °W = -100)', layout=widgets.Layout(width='400px'))\n",
    "lon_box = widgets.HBox([west_lon_float, east_lon_float, lon_label])\n",
    "north_lat_float = widgets.BoundedFloatText(description='Northern-most Latitude:', value=0, min=-90, max=90, disabled=False, layout=widgets.Layout(width='400px', height='30px'), style={'description_width':'300px'})\n",
    "south_lat_float = widgets.BoundedFloatText(description='Southern-most Latitude:', value=0, min=-90, max=90, disabled=False, layout=widgets.Layout(width='400px', height='30px'), style={'description_width':'300px'})\n",
    "lat_label = widgets.Label(value='(use negative values to indicate °S, e.g., 30 °S = -30)', layout=widgets.Layout(width='400px'))\n",
    "north_lat_box = widgets.HBox([north_lat_float, lat_label])\n",
    "south_lat_box = widgets.HBox([south_lat_float, lat_label])\n",
    "\n",
    "# Display drop-down menus\n",
    "print('If you change menu selections (e.g., to run another search), do NOT re-run this block!\\nRe-running will re-set all menus to their defaults!')\n",
    "display(product, latency)\n",
    "display(start_date, end_date)\n",
    "display(domain_caption, north_lat_box, lon_box, south_lat_box)"
   ]
  },
  {
   "cell_type": "markdown",
   "id": "a39579d9",
   "metadata": {},
   "source": [
    "\n",
    "\n",
    "### Few functions. No need to change"
   ]
  },
  {
   "cell_type": "code",
   "execution_count": 12,
   "id": "8528e46a-e14d-45b7-8e56-df2e8d8750d1",
   "metadata": {
    "tags": []
   },
   "outputs": [],
   "source": [
    "# Convert user-entered date format to that used by Sentinel API\n",
    "# \"year\", \"month\", \"day\": parameter variables from widget menu, set in main function\n",
    "\n",
    "def convert_date_sentinel_api_format(year, month, day):\n",
    "    \n",
    "    # Add dashes b/w year/month and month/day\n",
    "    formatted_date = year + '-' + month + '-' + day\n",
    "\n",
    "    return formatted_date"
   ]
  },
  {
   "cell_type": "code",
   "execution_count": 13,
   "id": "a5fd5af3-3c09-4f4a-a754-7e012d3bc2f2",
   "metadata": {
    "tags": []
   },
   "outputs": [],
   "source": [
    "# Get product abbrevation used in TROPOMI file name\n",
    "# \"product\": parameter variable from widget menu, set in main function\n",
    "\n",
    "def get_tropomi_product_abbreviation(product):\n",
    "    if product == 'CO':\n",
    "        product_abbreviation = 'L2__CO____'\n",
    "    elif product == 'NO2':\n",
    "        product_abbreviation = 'L2__NO2___'\n",
    "    elif product == 'SO2':\n",
    "        product_abbreviation = 'L2__SO2___'\n",
    "    elif product == 'HCHO':\n",
    "        product_abbreviation = 'L2__HCHO__'\n",
    "    elif product == 'AI':\n",
    "        product_abbreviation = 'L2__AER_AI'\n",
    "    elif product == 'ALH':\n",
    "        product_abbreviation = 'L2__AER_LH'\n",
    "\n",
    "    return product_abbreviation\n"
   ]
  },
  {
   "cell_type": "code",
   "execution_count": 14,
   "id": "4926c01d-ff09-452c-9705-119c2d08eb27",
   "metadata": {
    "tags": []
   },
   "outputs": [],
   "source": [
    "# Create list of TROPOMI data file names for user-entered product, latency, search region, and date range\n",
    "# \"product_abbreviation\": parameter variable from \"get_tropomi_product_abbreviation(product)\" function\n",
    "# \"start_date\", \"end_date\": parameter variables from \"convert_date_sentinel_api_format(year, month, day)\" function\n",
    "# \"west_lon\", \"east_lon\", \"south_lat\", \"north_lat\", \"latency\": parameter variables from widget menus, set in main function\n",
    "\n",
    "def tropomi_list_files(west_lon, east_lon, south_lat, north_lat, start_date, end_date, product_abbreviation, latency):\n",
    "\n",
    "    # Access S5P Data Hub using guest login credentials\n",
    "    api = SentinelAPI('s5pguest', 's5pguest', 'https://s5phub.copernicus.eu/dhus')\n",
    "   \n",
    "    # Query API for specified region, start/end dates, data product\n",
    "    footprint = 'POLYGON((' + west_lon + ' ' + south_lat + ',' + east_lon + ' ' + south_lat + ',' + east_lon + ' ' + north_lat + ',' + west_lon + ' ' + north_lat + ',' + west_lon + ' ' + south_lat + '))'\n",
    "    try:\n",
    "        products = api.query(area=footprint, date=(start_date + 'T00:00:00Z', end_date + 'T23:59:59Z'), producttype=product_abbreviation, processingmode=latency)\n",
    "    except:\n",
    "        print('Error connecting to SciHub server. This happens periodically. Run code again.')\n",
    "    \n",
    "    # Convert query output to pandas dataframe (df) (part of Sentinelsat library)\n",
    "    products_df = api.to_dataframe(products)\n",
    "    \n",
    "    # Extract data file names from dataframe to list\n",
    "    if len(products_df) > 0:\n",
    "        file_name_list = products_df['filename'].tolist()\n",
    "        file_size_list = products_df['size'].tolist()\n",
    "    else:\n",
    "        file_name_list = []\n",
    "        file_size_list = []\n",
    "    \n",
    "    return file_name_list, file_size_list, products"
   ]
  },
  {
   "cell_type": "code",
   "execution_count": 15,
   "id": "a788cf9c-df8b-48c3-8c97-d321b817f0b8",
   "metadata": {
    "tags": []
   },
   "outputs": [],
   "source": [
    "# Download TROPOMI data files\n",
    "# \"save_path\": parameter variable set in main function\n",
    "# \"products\": parameter variable from \"tropomi_list_files( )\" function\n",
    "\n",
    "def tropomi_download_files(products, save_path):\n",
    "    \n",
    "    # Query S5P Data Hub using guest login credentials\n",
    "    api = SentinelAPI('s5pguest', 's5pguest', 'https://s5phub.copernicus.eu/dhus')\n",
    "    \n",
    "    # Download data files to specified subdirectory\n",
    "    # Note: Sentinelsat library includes tqdm download progress bar\n",
    "    try:\n",
    "        api.download_all(products, save_path)\n",
    "    except KeyboardInterrupt:\n",
    "        print('\\nDownload was interrupted by user.')"
   ]
  },
  {
   "cell_type": "code",
   "execution_count": 16,
   "id": "46af46d8-8ced-41dc-96e8-a5b80201760f",
   "metadata": {
    "tags": []
   },
   "outputs": [],
   "source": [
    "# Print available TROPOMI data files that match user specifications, with option to download files\n",
    "# \"save_path\": parameter variable set in main function\n",
    "# \"product_abbreviation\": parameter variable from \"get_tropomi_product_abbreviation(product)\" function\n",
    "# \"start_date\", \"end_date\": parameter variables from \"convert_date_sentinel_api_format(date)\" function\n",
    "# \"west_lon\", \"south_lat\", \"east_lon\", \"north_lat\", \"latency\": parameter variables from widget menus, set in main function\n",
    "\n",
    "def get_tropomi_files(west_lon, east_lon, south_lat, north_lat, start_date, end_date, product_abbreviation, latency, save_path):\n",
    "    \n",
    "    # Query S5P Data Hub and list file names matching user-entered info\n",
    "    file_name_list, file_size_list, products = tropomi_list_files(west_lon, east_lon, south_lat, north_lat, start_date, end_date, product_abbreviation, latency)\n",
    "    \n",
    "    # Print list of available file names/sizes\n",
    "    if len(file_name_list) > 0:\n",
    "        print('\\nList of available data files (file size):')\n",
    "        for file, size in zip(file_name_list, file_size_list):\n",
    "            print(file, ' (', size, ')', sep='')\n",
    "        \n",
    "        # Print directory where files will be saved\n",
    "        print('\\nData files will be saved to:', save_path)\n",
    "        \n",
    "        # Ask user if they want to download the available data files\n",
    "        # If yes, download files to specified directory\n",
    "        download_question = 'Would you like to download the ' + str(len(file_name_list)) + ' files?\\nType \"yes\" or \"no\" and hit \"Enter\"\\n'\n",
    "        ask_download = input(download_question)\n",
    "        if ask_download in ['yes', 'YES', 'Yes', 'y', 'Y']:\n",
    "            tropomi_download_files(products, save_path)\n",
    "        else:\n",
    "            print('\\nFiles are not being downloaded.')\n",
    "    else:\n",
    "        print('\\nNo files retrieved.  Check settings and try again.')"
   ]
  },
  {
   "cell_type": "markdown",
   "id": "fe7ced08",
   "metadata": {},
   "source": [
    "\n",
    "\n",
    "### Main. Do the query and download.\n"
   ]
  },
  {
   "cell_type": "code",
   "execution_count": null,
   "id": "204398b6-0073-4c9e-861d-f9e24328a002",
   "metadata": {
    "scrolled": true,
    "tags": []
   },
   "outputs": [
    {
     "data": {
      "application/vnd.jupyter.widget-view+json": {
       "model_id": "d6928a16832f4153bfd6ab7a2bbca26d",
       "version_major": 2,
       "version_minor": 0
      },
      "text/plain": [
       "Querying products:  50%|####9     | 100/202 [00:00<?, ?product/s]"
      ]
     },
     "metadata": {},
     "output_type": "display_data"
    },
    {
     "name": "stdout",
     "output_type": "stream",
     "text": [
      "\n",
      "List of available data files (file size):\n",
      "S5P_OFFL_L2__NO2____20230717T034611_20230717T052741_29833_03_020500_20230720T143035.nc (554.27 MB)\n",
      "S5P_OFFL_L2__NO2____20230717T002312_20230717T020442_29831_03_020500_20230720T140859.nc (581.08 MB)\n",
      "S5P_OFFL_L2__NO2____20230717T222237_20230718T000406_29844_03_020500_20230721T110429.nc (573.65 MB)\n",
      "S5P_OFFL_L2__NO2____20230717T185937_20230717T204107_29842_03_020500_20230721T105019.nc (580.3 MB)\n",
      "S5P_OFFL_L2__NO2____20230717T204107_20230717T222237_29843_03_020500_20230721T105329.nc (576.16 MB)\n",
      "S5P_OFFL_L2__NO2____20230717T171808_20230717T185937_29841_03_020500_20230721T091037.nc (585.09 MB)\n",
      "S5P_OFFL_L2__NO2____20230717T153638_20230717T171808_29840_03_020500_20230721T084843.nc (574.34 MB)\n",
      "S5P_OFFL_L2__NO2____20230717T121339_20230717T135509_29838_03_020500_20230721T050121.nc (577.47 MB)\n",
      "S5P_OFFL_L2__NO2____20230717T103210_20230717T121339_29837_03_020500_20230721T021736.nc (575.41 MB)\n",
      "S5P_OFFL_L2__NO2____20230717T135509_20230717T153638_29839_03_020500_20230721T064825.nc (554.57 MB)\n",
      "S5P_OFFL_L2__NO2____20230717T052741_20230717T070910_29834_03_020500_20230721T015449.nc (583.61 MB)\n",
      "S5P_OFFL_L2__NO2____20230717T020442_20230717T034611_29832_03_020500_20230720T141325.nc (583.56 MB)\n",
      "S5P_OFFL_L2__NO2____20230716T224143_20230717T002312_29830_03_020500_20230720T140959.nc (574.38 MB)\n",
      "S5P_OFFL_L2__NO2____20230716T210013_20230716T224143_29829_03_020500_20230720T140514.nc (575.34 MB)\n",
      "S5P_OFFL_L2__NO2____20230716T173714_20230716T191844_29827_03_020500_20230720T142945.nc (587.73 MB)\n",
      "S5P_OFFL_L2__NO2____20230716T191844_20230716T210013_29828_03_020500_20230720T141710.nc (578.67 MB)\n",
      "S5P_OFFL_L2__NO2____20230716T155544_20230716T173714_29826_03_020500_20230720T141504.nc (575.97 MB)\n",
      "S5P_OFFL_L2__NO2____20230716T141415_20230716T155544_29825_03_020500_20230720T141142.nc (573.17 MB)\n",
      "S5P_OFFL_L2__NO2____20230716T123245_20230716T141415_29824_03_020500_20230720T142040.nc (576.95 MB)\n",
      "S5P_OFFL_L2__NO2____20230716T105116_20230716T123245_29823_03_020500_20230720T142851.nc (575.87 MB)\n",
      "S5P_OFFL_L2__NO2____20230716T022348_20230716T040517_29818_03_020500_20230720T134207.nc (560.68 MB)\n",
      "S5P_OFFL_L2__NO2____20230716T040517_20230716T054647_29819_03_020500_20230720T140102.nc (560.71 MB)\n",
      "S5P_OFFL_L2__NO2____20230715T230049_20230716T004218_29816_03_020500_20230717T183159.nc (573.01 MB)\n",
      "S5P_OFFL_L2__NO2____20230716T004218_20230716T022348_29817_03_020500_20230717T182449.nc (580.83 MB)\n",
      "S5P_OFFL_L2__NO2____20230715T193750_20230715T211919_29814_03_020500_20230717T115205.nc (576.37 MB)\n",
      "S5P_OFFL_L2__NO2____20230715T211919_20230715T230049_29815_03_020500_20230717T131532.nc (574.01 MB)\n",
      "S5P_OFFL_L2__NO2____20230715T175620_20230715T193750_29813_03_020500_20230717T101424.nc (583.01 MB)\n",
      "S5P_OFFL_L2__NO2____20230715T161450_20230715T175620_29812_03_020500_20230717T081545.nc (578.09 MB)\n",
      "S5P_OFFL_L2__NO2____20230715T143321_20230715T161450_29811_03_020500_20230717T063044.nc (570.1 MB)\n",
      "S5P_OFFL_L2__NO2____20230715T125151_20230715T143321_29810_03_020500_20230717T045440.nc (571.73 MB)\n",
      "S5P_OFFL_L2__NO2____20230715T111022_20230715T125151_29809_03_020500_20230717T032442.nc (579.14 MB)\n",
      "S5P_OFFL_L2__NO2____20230715T092852_20230715T111022_29808_03_020500_20230717T014342.nc (580.04 MB)\n",
      "S5P_OFFL_L2__NO2____20230715T042423_20230715T060553_29805_03_020500_20230716T201836.nc (579.34 MB)\n",
      "S5P_OFFL_L2__NO2____20230715T024254_20230715T042423_29804_03_020500_20230716T182151.nc (580.57 MB)\n",
      "S5P_OFFL_L2__NO2____20230715T010124_20230715T024254_29803_03_020500_20230716T164226.nc (548.93 MB)\n",
      "S5P_OFFL_L2__NO2____20230714T231955_20230715T010124_29802_03_020500_20230716T151305.nc (575.06 MB)\n",
      "S5P_OFFL_L2__NO2____20230714T213825_20230714T231955_29801_03_020500_20230716T133657.nc (573.23 MB)\n",
      "S5P_OFFL_L2__NO2____20230714T145227_20230714T163356_29797_03_020500_20230716T064003.nc (576.14 MB)\n",
      "S5P_OFFL_L2__NO2____20230714T131057_20230714T145227_29796_03_020500_20230716T051700.nc (575.41 MB)\n",
      "S5P_OFFL_L2__NO2____20230714T112928_20230714T131057_29795_03_020500_20230716T034751.nc (578.19 MB)\n",
      "S5P_OFFL_L2__NO2____20230714T195656_20230714T213825_29800_03_020500_20230716T120304.nc (578.0 MB)\n",
      "S5P_OFFL_L2__NO2____20230714T163356_20230714T181526_29798_03_020500_20230716T083750.nc (578.21 MB)\n",
      "S5P_OFFL_L2__NO2____20230714T094758_20230714T112928_29794_03_020500_20230716T020354.nc (583.45 MB)\n",
      "S5P_OFFL_L2__NO2____20230714T181526_20230714T195656_29799_03_020500_20230716T103048.nc (586.24 MB)\n",
      "S5P_OFFL_L2__NO2____20230713T233901_20230714T012030_29788_03_020500_20230715T152800.nc (550.12 MB)\n",
      "S5P_OFFL_L2__NO2____20230714T012030_20230714T030200_29789_03_020500_20230715T170758.nc (576.8 MB)\n",
      "S5P_OFFL_L2__NO2____20230714T044329_20230714T062459_29791_03_020500_20230715T203337.nc (581.17 MB)\n",
      "S5P_OFFL_L2__NO2____20230714T030200_20230714T044329_29790_03_020500_20230715T184310.nc (580.76 MB)\n",
      "S5P_OFFL_L2__NO2____20230713T215731_20230713T233901_29787_03_020500_20230715T135627.nc (571.35 MB)\n",
      "S5P_OFFL_L2__NO2____20230713T201601_20230713T215731_29786_03_020500_20230715T121755.nc (576.57 MB)\n",
      "S5P_OFFL_L2__NO2____20230713T165302_20230713T183432_29784_03_020500_20230715T085259.nc (588.05 MB)\n",
      "S5P_OFFL_L2__NO2____20230713T151133_20230713T165302_29783_03_020500_20230715T065213.nc (572.39 MB)\n",
      "S5P_OFFL_L2__NO2____20230713T183432_20230713T201601_29785_03_020500_20230715T104725.nc (588.13 MB)\n",
      "S5P_OFFL_L2__NO2____20230713T050235_20230713T064405_29777_03_020500_20230714T204945.nc (586.09 MB)\n",
      "S5P_OFFL_L2__NO2____20230713T114834_20230713T133003_29781_03_020500_20230715T040828.nc (577.77 MB)\n",
      "S5P_OFFL_L2__NO2____20230713T100704_20230713T114834_29780_03_020500_20230715T023402.nc (584.46 MB)\n",
      "S5P_OFFL_L2__NO2____20230713T133003_20230713T151133_29782_03_020500_20230715T053538.nc (575.49 MB)\n",
      "S5P_OFFL_L2__NO2____20230713T013936_20230713T032106_29775_03_020500_20230714T173041.nc (582.98 MB)\n",
      "S5P_OFFL_L2__NO2____20230712T235807_20230713T013936_29774_03_020500_20230714T154830.nc (577.4 MB)\n",
      "S5P_OFFL_L2__NO2____20230713T032106_20230713T050235_29776_03_020500_20230714T190516.nc (585.93 MB)\n",
      "S5P_OFFL_L2__NO2____20230712T221637_20230712T235807_29773_03_020500_20230714T142123.nc (550.64 MB)\n",
      "S5P_OFFL_L2__NO2____20230712T102610_20230712T120739_29766_03_020500_20230714T024256.nc (579.51 MB)\n",
      "S5P_OFFL_L2__NO2____20230712T203507_20230712T221637_29772_03_020500_20230714T124145.nc (578.53 MB)\n",
      "S5P_OFFL_L2__NO2____20230712T185338_20230712T203507_29771_03_020500_20230714T110240.nc (584.55 MB)\n",
      "S5P_OFFL_L2__NO2____20230712T134909_20230712T153038_29768_03_020500_20230714T054508.nc (575.58 MB)\n",
      "S5P_OFFL_L2__NO2____20230712T153038_20230712T171208_29769_03_020500_20230714T071930.nc (575.1 MB)\n",
      "S5P_OFFL_L2__NO2____20230712T171208_20230712T185338_29770_03_020500_20230714T092154.nc (586.26 MB)\n",
      "S5P_OFFL_L2__NO2____20230712T120739_20230712T134909_29767_03_020500_20230714T042751.nc (579.19 MB)\n",
      "S5P_OFFL_L2__NO2____20230712T052141_20230712T070310_29763_03_020500_20230713T211445.nc (581.53 MB)\n",
      "S5P_OFFL_L2__NO2____20230712T034011_20230712T052141_29762_03_020500_20230713T193054.nc (581.4 MB)\n",
      "S5P_OFFL_L2__NO2____20230712T015842_20230712T034011_29761_03_020500_20230713T175439.nc (581.72 MB)\n",
      "S5P_OFFL_L2__NO2____20230712T001712_20230712T015842_29760_03_020500_20230713T160617.nc (575.3 MB)\n",
      "S5P_OFFL_L2__NO2____20230711T223543_20230712T001712_29759_03_020500_20230713T144918.nc (572.65 MB)\n",
      "S5P_OFFL_L2__NO2____20230711T205413_20230711T223543_29758_03_020500_20230713T130712.nc (552.23 MB)\n",
      "S5P_OFFL_L2__NO2____20230711T191243_20230711T205413_29757_03_020500_20230713T112657.nc (581.27 MB)\n",
      "S5P_OFFL_L2__NO2____20230711T154944_20230711T173114_29755_03_020500_20230713T074213.nc (580.21 MB)\n",
      "S5P_OFFL_L2__NO2____20230711T173114_20230711T191243_29756_03_020500_20230713T094242.nc (587.24 MB)\n",
      "S5P_OFFL_L2__NO2____20230711T140815_20230711T154944_29754_03_020500_20230713T060241.nc (574.78 MB)\n",
      "S5P_OFFL_L2__NO2____20230711T122645_20230711T140815_29753_03_020500_20230713T044445.nc (574.16 MB)\n",
      "S5P_OFFL_L2__NO2____20230711T104515_20230711T122645_29752_03_020500_20230713T030817.nc (579.43 MB)\n",
      "S5P_OFFL_L2__NO2____20230711T035917_20230711T054046_29748_03_020500_20230712T195704.nc (578.11 MB)\n",
      "S5P_OFFL_L2__NO2____20230711T021747_20230711T035917_29747_03_020500_20230712T180820.nc (580.34 MB)\n",
      "S5P_OFFL_L2__NO2____20230711T003618_20230711T021747_29746_03_020500_20230712T162549.nc (578.63 MB)\n",
      "S5P_OFFL_L2__NO2____20230710T225448_20230711T003618_29745_03_020500_20230712T145925.nc (569.95 MB)\n",
      "S5P_OFFL_L2__NO2____20230710T211319_20230710T225448_29744_03_020500_20230712T133320.nc (577.49 MB)\n",
      "S5P_OFFL_L2__NO2____20230710T175019_20230710T193149_29742_03_020500_20230712T095748.nc (587.04 MB)\n",
      "S5P_OFFL_L2__NO2____20230710T193149_20230710T211319_29743_03_020500_20230712T112640.nc (553.83 MB)\n",
      "S5P_OFFL_L2__NO2____20230710T160850_20230710T175019_29741_03_020500_20230712T080520.nc (579.62 MB)\n",
      "S5P_OFFL_L2__NO2____20230710T092251_20230710T110421_29737_03_020500_20230712T013710.nc (580.67 MB)\n",
      "S5P_OFFL_L2__NO2____20230710T142720_20230710T160850_29740_03_020500_20230712T061817.nc (575.48 MB)\n",
      "S5P_OFFL_L2__NO2____20230710T110421_20230710T124551_29738_03_020500_20230712T032548.nc (580.97 MB)\n",
      "S5P_OFFL_L2__NO2____20230710T124551_20230710T142720_29739_03_020500_20230712T050350.nc (573.84 MB)\n",
      "S5P_OFFL_L2__NO2____20230709T231354_20230710T005523_29731_03_020500_20230711T151402.nc (574.2 MB)\n",
      "S5P_OFFL_L2__NO2____20230710T023653_20230710T041822_29733_03_020500_20230711T182350.nc (581.42 MB)\n",
      "S5P_OFFL_L2__NO2____20230710T041822_20230710T055952_29734_03_020500_20230711T201845.nc (579.94 MB)\n",
      "S5P_OFFL_L2__NO2____20230710T005523_20230710T023653_29732_03_020500_20230711T165014.nc (578.82 MB)\n",
      "S5P_OFFL_L2__NO2____20230709T195054_20230709T213224_29729_03_020500_20230711T115552.nc (553.28 MB)\n",
      "S5P_OFFL_L2__NO2____20230709T180925_20230709T195054_29728_03_020500_20230711T100950.nc (561.43 MB)\n",
      "S5P_OFFL_L2__NO2____20230709T213224_20230709T231354_29730_03_020500_20230711T135007.nc (575.73 MB)\n",
      "S5P_OFFL_L2__NO2____20230709T130456_20230709T144625_29725_03_020500_20230711T051958.nc (572.9 MB)\n",
      "S5P_OFFL_L2__NO2____20230709T094157_20230709T112326_29723_03_020500_20230711T015941.nc (580.77 MB)\n",
      "S5P_OFFL_L2__NO2____20230709T162755_20230709T180925_29727_03_020500_20230711T083103.nc (582.61 MB)\n",
      "S5P_OFFL_L2__NO2____20230709T144625_20230709T162755_29726_03_020500_20230711T063115.nc (573.87 MB)\n",
      "S5P_OFFL_L2__NO2____20230709T011428_20230709T025558_29718_03_020500_20230710T170234.nc (575.41 MB)\n",
      "S5P_OFFL_L2__NO2____20230709T043728_20230709T061857_29720_03_020500_20230710T203920.nc (580.49 MB)\n",
      "S5P_OFFL_L2__NO2____20230709T112326_20230709T130456_29724_03_020500_20230711T035001.nc (580.38 MB)\n",
      "S5P_OFFL_L2__NO2____20230709T025558_20230709T043728_29719_03_020500_20230710T184359.nc (582.21 MB)\n",
      "S5P_OFFL_L2__NO2____20230708T233259_20230709T011428_29717_03_020500_20230710T152945.nc (574.96 MB)\n",
      "S5P_OFFL_L2__NO2____20230706T021144_20230706T035313_29676_03_020500_20230707T175817.nc (577.06 MB)\n",
      "S5P_OFFL_L2__NO2____20230706T154341_20230706T172511_29684_03_020500_20230708T073653.nc (578.29 MB)\n",
      "S5P_OFFL_L2__NO2____20230706T140211_20230706T154341_29683_03_020500_20230708T060302.nc (555.87 MB)\n",
      "S5P_OFFL_L2__NO2____20230705T224845_20230706T003014_29674_03_020500_20230707T144536.nc (572.06 MB)\n",
      "S5P_OFFL_L2__NO2____20230706T122042_20230706T140211_29682_03_020500_20230708T043121.nc (578.05 MB)\n",
      "S5P_OFFL_L2__NO2____20230706T103912_20230706T122042_29681_03_020500_20230708T025311.nc (579.75 MB)\n",
      "S5P_OFFL_L2__NO2____20230706T035313_20230706T053443_29677_03_020500_20230707T195017.nc (585.85 MB)\n",
      "S5P_OFFL_L2__NO2____20230705T210715_20230705T224845_29673_03_020500_20230707T131758.nc (573.72 MB)\n",
      "S5P_OFFL_L2__NO2____20230705T142116_20230705T160246_29669_03_020500_20230707T061741.nc (574.82 MB)\n",
      "S5P_OFFL_L2__NO2____20230705T004919_20230705T023049_29661_03_020500_20230706T165011.nc (581.54 MB)\n",
      "S5P_OFFL_L2__NO2____20230705T192545_20230705T210715_29672_03_020500_20230707T112959.nc (577.57 MB)\n",
      "S5P_OFFL_L2__NO2____20230705T160246_20230705T174416_29670_03_020500_20230707T075852.nc (578.92 MB)\n",
      "S5P_OFFL_L2__NO2____20230705T174416_20230705T192545_29671_03_020500_20230707T094826.nc (585.94 MB)\n",
      "S5P_OFFL_L2__NO2____20230705T091647_20230705T105817_29666_03_020500_20230707T011123.nc (578.88 MB)\n",
      "S5P_OFFL_L2__NO2____20230705T123947_20230705T142116_29668_03_020500_20230707T024839.nc (86.7 MB)\n",
      "S5P_OFFL_L2__NO2____20230705T041218_20230705T055348_29663_03_020500_20230706T200544.nc (579.67 MB)\n",
      "S5P_OFFL_L2__NO2____20230705T023049_20230705T041218_29662_03_020500_20230706T181629.nc (581.76 MB)\n",
      "S5P_OFFL_L2__NO2____20230704T230749_20230705T004919_29660_03_020500_20230706T150357.nc (574.25 MB)\n",
      "S5P_OFFL_L2__NO2____20230708T150531_20230708T164700_29712_03_020500_20230710T065515.nc (577.25 MB)\n",
      "S5P_OFFL_L2__NO2____20230708T114232_20230708T132401_29710_03_020500_20230710T041005.nc (576.09 MB)\n",
      "S5P_OFFL_L2__NO2____20230708T201000_20230708T215129_29715_03_020500_20230710T121257.nc (578.82 MB)\n",
      "S5P_OFFL_L2__NO2____20230708T182830_20230708T201000_29714_03_020500_20230710T103202.nc (586.59 MB)\n",
      "S5P_OFFL_L2__NO2____20230708T215129_20230708T233259_29716_03_020500_20230710T135920.nc (571.9 MB)\n",
      "S5P_OFFL_L2__NO2____20230708T132401_20230708T150531_29711_03_020500_20230710T053935.nc (575.75 MB)\n",
      "S5P_OFFL_L2__NO2____20230708T164700_20230708T182830_29713_03_020500_20230710T085043.nc (569.16 MB)\n",
      "S5P_OFFL_L2__NO2____20230708T100102_20230708T114232_29709_03_020500_20230710T021954.nc (578.57 MB)\n",
      "S5P_OFFL_L2__NO2____20230707T202905_20230707T221034_29701_03_020500_20230709T123738.nc (576.38 MB)\n",
      "S5P_OFFL_L2__NO2____20230707T221034_20230707T235204_29702_03_020500_20230709T141710.nc (574.67 MB)\n",
      "S5P_OFFL_L2__NO2____20230707T184735_20230707T202905_29700_03_020500_20230709T105343.nc (585.69 MB)\n",
      "S5P_OFFL_L2__NO2____20230707T170605_20230707T184735_29699_03_020500_20230709T090944.nc (586.87 MB)\n",
      "S5P_OFFL_L2__NO2____20230707T102007_20230707T120137_29695_03_020500_20230709T023144.nc (581.05 MB)\n",
      "S5P_OFFL_L2__NO2____20230707T134306_20230707T152436_29697_03_020500_20230709T055226.nc (572.59 MB)\n",
      "S5P_OFFL_L2__NO2____20230707T152436_20230707T170605_29698_03_020500_20230709T071010.nc (552.27 MB)\n",
      "S5P_OFFL_L2__NO2____20230707T120137_20230707T134306_29696_03_020500_20230709T042514.nc (579.42 MB)\n",
      "S5P_OFFL_L2__NO2____20230707T051538_20230707T065708_29692_03_020500_20230708T211848.nc (585.76 MB)\n",
      "S5P_OFFL_L2__NO2____20230707T033408_20230707T051538_29691_03_020500_20230708T192716.nc (584.23 MB)\n",
      "S5P_OFFL_L2__NO2____20230707T015239_20230707T033408_29690_03_020500_20230708T174513.nc (577.19 MB)\n",
      "S5P_OFFL_L2__NO2____20230707T001109_20230707T015239_29689_03_020500_20230708T161000.nc (576.22 MB)\n",
      "S5P_OFFL_L2__NO2____20230706T222940_20230707T001109_29688_03_020500_20230708T143346.nc (572.76 MB)\n",
      "S5P_OFFL_L2__NO2____20230706T204810_20230706T222940_29687_03_020500_20230708T125720.nc (576.74 MB)\n",
      "S5P_OFFL_L2__NO2____20230706T190640_20230706T204810_29686_03_020500_20230708T110957.nc (581.27 MB)\n",
      "S5P_OFFL_L2__NO2____20230706T172511_20230706T190640_29685_03_020500_20230708T093041.nc (584.32 MB)\n",
      "S5P_OFFL_L2__NO2____20230708T013334_20230708T031503_29704_03_020500_20230709T172708.nc (574.59 MB)\n",
      "S5P_OFFL_L2__NO2____20230708T045633_20230708T063803_29706_03_020500_20230709T205430.nc (583.02 MB)\n",
      "S5P_OFFL_L2__NO2____20230708T031503_20230708T045633_29705_03_020500_20230709T190330.nc (581.4 MB)\n",
      "S5P_OFFL_L2__NO2____20230707T235204_20230708T013334_29703_03_020500_20230709T154937.nc (575.42 MB)\n",
      "S5P_OFFL_L2__NO2____20230706T003014_20230706T021144_29675_03_020500_20230707T162908.nc (577.25 MB)\n",
      "S5P_OFFL_L2__NO2____20230704T043123_20230704T061253_29649_03_020500_20230705T202229.nc (581.46 MB)\n",
      "S5P_OFFL_L2__NO2____20230704T024953_20230704T043123_29648_03_020500_20230705T183836.nc (578.48 MB)\n",
      "S5P_OFFL_L2__NO2____20230704T010824_20230704T024953_29647_03_020500_20230705T170520.nc (576.68 MB)\n",
      "S5P_OFFL_L2__NO2____20230704T180320_20230704T194450_29657_03_020500_20230706T100527.nc (583.62 MB)\n",
      "S5P_OFFL_L2__NO2____20230704T194450_20230704T212620_29658_03_020500_20230706T114536.nc (576.29 MB)\n",
      "S5P_OFFL_L2__NO2____20230704T212620_20230704T230749_29659_03_020500_20230706T132932.nc (549.7 MB)\n",
      "S5P_OFFL_L2__NO2____20230704T162151_20230704T180320_29656_03_020500_20230706T082145.nc (580.56 MB)\n",
      "S5P_OFFL_L2__NO2____20230704T144021_20230704T162151_29655_03_020500_20230706T063550.nc (572.67 MB)\n",
      "S5P_OFFL_L2__NO2____20230704T125852_20230704T144021_29654_03_020500_20230706T052015.nc (578.28 MB)\n",
      "S5P_OFFL_L2__NO2____20230704T093552_20230704T111722_29652_03_020500_20230706T013722.nc (579.53 MB)\n",
      "S5P_OFFL_L2__NO2____20230704T111722_20230704T125852_29653_03_020500_20230706T033602.nc (559.38 MB)\n",
      "S5P_OFFL_L2__NO2____20230703T232654_20230704T010824_29646_03_020500_20230705T151900.nc (573.96 MB)\n",
      "S5P_OFFL_L2__NO2____20230703T113627_20230703T131756_29639_03_020500_20230705T040041.nc (556.42 MB)\n",
      "S5P_OFFL_L2__NO2____20230703T200355_20230703T214524_29644_03_020500_20230705T120547.nc (577.94 MB)\n",
      "S5P_OFFL_L2__NO2____20230703T030858_20230703T045028_29634_03_020500_20230704T190359.nc (583.47 MB)\n",
      "S5P_OFFL_L2__NO2____20230703T164055_20230703T182225_29642_03_020500_20230705T084526.nc (579.98 MB)\n",
      "S5P_OFFL_L2__NO2____20230703T182225_20230703T200355_29643_03_020500_20230705T102721.nc (585.19 MB)\n",
      "S5P_OFFL_L2__NO2____20230703T214524_20230703T232654_29645_03_020500_20230705T134606.nc (569.76 MB)\n",
      "S5P_OFFL_L2__NO2____20230703T145926_20230703T164055_29641_03_020500_20230705T065843.nc (576.44 MB)\n",
      "S5P_OFFL_L2__NO2____20230703T131756_20230703T145926_29640_03_020500_20230705T052750.nc (577.47 MB)\n",
      "S5P_OFFL_L2__NO2____20230703T095457_20230703T113627_29638_03_020500_20230705T015603.nc (561.76 MB)\n",
      "S5P_OFFL_L2__NO2____20230703T045028_20230703T063157_29635_03_020500_20230704T204222.nc (582.05 MB)\n",
      "S5P_OFFL_L2__NO2____20230703T012728_20230703T030858_29633_03_020500_20230704T172018.nc (576.25 MB)\n",
      "S5P_OFFL_L2__NO2____20230702T234559_20230703T012728_29632_03_020500_20230704T153530.nc (572.05 MB)\n",
      "S5P_OFFL_L2__NO2____20230702T115531_20230702T133701_29625_03_020500_20230704T043103.nc (578.5 MB)\n",
      "S5P_OFFL_L2__NO2____20230702T184130_20230702T202259_29629_03_020500_20230704T104543.nc (584.67 MB)\n",
      "S5P_OFFL_L2__NO2____20230702T202259_20230702T220429_29630_03_020500_20230704T123421.nc (577.52 MB)\n",
      "S5P_OFFL_L2__NO2____20230702T170000_20230702T184130_29628_03_020500_20230704T090209.nc (584.04 MB)\n",
      "S5P_OFFL_L2__NO2____20230702T151830_20230702T170000_29627_03_020500_20230704T071652.nc (577.58 MB)\n",
      "S5P_OFFL_L2__NO2____20230702T133701_20230702T151830_29626_03_020500_20230704T054633.nc (577.06 MB)\n",
      "S5P_OFFL_L2__NO2____20230702T101401_20230702T115531_29624_03_020500_20230704T022052.nc (578.51 MB)\n",
      "S5P_OFFL_L2__NO2____20230702T220429_20230702T234559_29631_03_020500_20230704T140323.nc (575.48 MB)\n",
      "S5P_OFFL_L2__NO2____20230702T050932_20230702T065102_29621_03_020500_20230703T210555.nc (585.99 MB)\n",
      "S5P_OFFL_L2__NO2____20230702T014633_20230702T032803_29619_03_020500_20230703T174114.nc (577.29 MB)\n",
      "S5P_OFFL_L2__NO2____20230702T032803_20230702T050932_29620_03_020500_20230703T192553.nc (583.24 MB)\n",
      "S5P_OFFL_L2__NO2____20230702T000503_20230702T014633_29618_03_020500_20230703T160404.nc (575.43 MB)\n",
      "S5P_OFFL_L2__NO2____20230701T204204_20230701T222334_29616_03_020500_20230703T124810.nc (572.64 MB)\n",
      "S5P_OFFL_L2__NO2____20230701T171905_20230701T190034_29614_03_020500_20230703T092209.nc (586.05 MB)\n",
      "S5P_OFFL_L2__NO2____20230701T153735_20230701T171905_29613_03_020500_20230703T073948.nc (578.53 MB)\n",
      "S5P_OFFL_L2__NO2____20230701T103306_20230701T121436_29610_03_020500_20230703T023908.nc (577.93 MB)\n",
      "S5P_OFFL_L2__NO2____20230701T135605_20230701T153735_29612_03_020500_20230703T060019.nc (574.36 MB)\n",
      "S5P_OFFL_L2__NO2____20230701T121436_20230701T135605_29611_03_020500_20230703T043504.nc (579.28 MB)\n",
      "S5P_OFFL_L2__NO2____20230701T222334_20230702T000503_29617_03_020500_20230703T141612.nc (575.01 MB)\n",
      "S5P_OFFL_L2__NO2____20230701T190034_20230701T204204_29615_03_020500_20230703T110310.nc (580.09 MB)\n",
      "S5P_OFFL_L2__NO2____20230701T020537_20230701T034707_29605_03_020500_20230702T175934.nc (577.02 MB)\n",
      "S5P_OFFL_L2__NO2____20230701T002408_20230701T020537_29604_03_020500_20230702T161349.nc (573.65 MB)\n",
      "S5P_OFFL_L2__NO2____20230701T034707_20230701T052837_29606_03_020500_20230702T194726.nc (583.81 MB)\n",
      "\n",
      "Data files will be saved to: /ddn/gs1/home/dawr2\n"
     ]
    },
    {
     "name": "stdout",
     "output_type": "stream",
     "text": [
      "Would you like to download the 202 files?\n",
      "Type \"yes\" or \"no\" and hit \"Enter\"\n",
      "yes\n"
     ]
    },
    {
     "data": {
      "application/vnd.jupyter.widget-view+json": {
       "model_id": "b52b7ee50ca2449abb52179da051be9a",
       "version_major": 2,
       "version_minor": 0
      },
      "text/plain": [
       "Fetching archival status:   5%|4         | 10/202 [00:02<00:41,  4.68product/s]"
      ]
     },
     "metadata": {},
     "output_type": "display_data"
    },
    {
     "data": {
      "application/vnd.jupyter.widget-view+json": {
       "model_id": "68e5ce95f47141f9996601a2826e82da",
       "version_major": 2,
       "version_minor": 0
      },
      "text/plain": [
       "Downloading products:   0%|          | 0/202 [00:00<?, ?product/s]"
      ]
     },
     "metadata": {},
     "output_type": "display_data"
    },
    {
     "data": {
      "application/vnd.jupyter.widget-view+json": {
       "model_id": "b257dc6abe9240338066dfaef35bbeae",
       "version_major": 2,
       "version_minor": 0
      },
      "text/plain": [
       "Downloading S5P_OFFL_L2__NO2____20230712T102610_20230712T120739_29766_03_020500_20230714T024256.nc:   0%|     …"
      ]
     },
     "metadata": {},
     "output_type": "display_data"
    },
    {
     "data": {
      "application/vnd.jupyter.widget-view+json": {
       "model_id": "3f5e7161fb2a4694be9da954e1388c5d",
       "version_major": 2,
       "version_minor": 0
      },
      "text/plain": [
       "Downloading S5P_OFFL_L2__NO2____20230705T123947_20230705T142116_29668_03_020500_20230707T024839.nc:   0%|     …"
      ]
     },
     "metadata": {},
     "output_type": "display_data"
    },
    {
     "data": {
      "application/vnd.jupyter.widget-view+json": {
       "model_id": "a9afeddebd774eb0bef6a6f2ea18b8fb",
       "version_major": 2,
       "version_minor": 0
      },
      "text/plain": [
       "Downloading S5P_OFFL_L2__NO2____20230711T154944_20230711T173114_29755_03_020500_20230713T074213.nc:   0%|     …"
      ]
     },
     "metadata": {},
     "output_type": "display_data"
    },
    {
     "name": "stderr",
     "output_type": "stream",
     "text": [
      "There was an error downloading S5P_OFFL_L2__NO2____20230705T123947_20230705T142116_29668_03_020500_20230707T024839\n",
      "Traceback (most recent call last):\n",
      "  File \"/ddn/gs1/home/dawr2/.local/lib/python3.9/site-packages/sentinelsat/sentinel.py\", line 1023, in _check_scihub_response\n",
      "    response.raise_for_status()\n",
      "  File \"/home/jupyter/.conda/envs/jupyter/lib/python3.9/site-packages/requests/models.py\", line 1021, in raise_for_status\n",
      "    raise HTTPError(http_error_msg, response=self)\n",
      "requests.exceptions.HTTPError: 429 Client Error: Too Many Requests for url: https://s5phub.copernicus.eu/dhus/odata/v1/Products('a6e928f8-7415-4d07-96fe-c3af380926ea')/$value\n",
      "\n",
      "During handling of the above exception, another exception occurred:\n",
      "\n",
      "Traceback (most recent call last):\n",
      "  File \"/ddn/gs1/home/dawr2/.local/lib/python3.9/site-packages/sentinelsat/download.py\", line 700, in _download_online_retry\n",
      "    return self.download(uuid, directory, stop_event=stop_event)\n",
      "  File \"/ddn/gs1/home/dawr2/.local/lib/python3.9/site-packages/sentinelsat/download.py\", line 150, in download\n",
      "    self._download_common(product_info, path, stop_event)\n",
      "  File \"/ddn/gs1/home/dawr2/.local/lib/python3.9/site-packages/sentinelsat/download.py\", line 218, in _download_common\n",
      "    product_info[\"downloaded_bytes\"] = self._download(\n",
      "  File \"/ddn/gs1/home/dawr2/.local/lib/python3.9/site-packages/sentinelsat/download.py\", line 741, in _download\n",
      "    self.api._check_scihub_response(r, test_json=False)\n",
      "  File \"/ddn/gs1/home/dawr2/.local/lib/python3.9/site-packages/sentinelsat/sentinel.py\", line 1069, in _check_scihub_response\n",
      "    raise ServerError(msg, response)\n",
      "sentinelsat.exceptions.ServerError: HTTP status 429 Too Many Requests: \n",
      "# 429 Too Many Requests\n",
      "\n",
      "You have sent too many requests in a given amount of time.\n",
      "There was an error downloading S5P_OFFL_L2__NO2____20230711T154944_20230711T173114_29755_03_020500_20230713T074213\n",
      "Traceback (most recent call last):\n",
      "  File \"/ddn/gs1/home/dawr2/.local/lib/python3.9/site-packages/sentinelsat/sentinel.py\", line 1023, in _check_scihub_response\n",
      "    response.raise_for_status()\n",
      "  File \"/home/jupyter/.conda/envs/jupyter/lib/python3.9/site-packages/requests/models.py\", line 1021, in raise_for_status\n",
      "    raise HTTPError(http_error_msg, response=self)\n",
      "requests.exceptions.HTTPError: 429 Client Error: Too Many Requests for url: https://s5phub.copernicus.eu/dhus/odata/v1/Products('b1c97441-7815-401d-9e49-baf704fd16b4')/$value\n",
      "\n",
      "During handling of the above exception, another exception occurred:\n",
      "\n",
      "Traceback (most recent call last):\n",
      "  File \"/ddn/gs1/home/dawr2/.local/lib/python3.9/site-packages/sentinelsat/download.py\", line 700, in _download_online_retry\n",
      "    return self.download(uuid, directory, stop_event=stop_event)\n",
      "  File \"/ddn/gs1/home/dawr2/.local/lib/python3.9/site-packages/sentinelsat/download.py\", line 150, in download\n",
      "    self._download_common(product_info, path, stop_event)\n",
      "  File \"/ddn/gs1/home/dawr2/.local/lib/python3.9/site-packages/sentinelsat/download.py\", line 218, in _download_common\n",
      "    product_info[\"downloaded_bytes\"] = self._download(\n",
      "  File \"/ddn/gs1/home/dawr2/.local/lib/python3.9/site-packages/sentinelsat/download.py\", line 741, in _download\n",
      "    self.api._check_scihub_response(r, test_json=False)\n",
      "  File \"/ddn/gs1/home/dawr2/.local/lib/python3.9/site-packages/sentinelsat/sentinel.py\", line 1069, in _check_scihub_response\n",
      "    raise ServerError(msg, response)\n",
      "sentinelsat.exceptions.ServerError: HTTP status 429 Too Many Requests: \n",
      "# 429 Too Many Requests\n",
      "\n",
      "You have sent too many requests in a given amount of time.\n"
     ]
    },
    {
     "data": {
      "application/vnd.jupyter.widget-view+json": {
       "model_id": "9e276706587e494e81d513f6a86da96c",
       "version_major": 2,
       "version_minor": 0
      },
      "text/plain": [
       "Downloading S5P_OFFL_L2__NO2____20230716T224143_20230717T002312_29830_03_020500_20230720T140959.nc:   0%|     …"
      ]
     },
     "metadata": {},
     "output_type": "display_data"
    },
    {
     "name": "stderr",
     "output_type": "stream",
     "text": [
      "There was an error downloading S5P_OFFL_L2__NO2____20230711T154944_20230711T173114_29755_03_020500_20230713T074213\n",
      "Traceback (most recent call last):\n",
      "  File \"/ddn/gs1/home/dawr2/.local/lib/python3.9/site-packages/sentinelsat/sentinel.py\", line 1023, in _check_scihub_response\n",
      "    response.raise_for_status()\n",
      "  File \"/home/jupyter/.conda/envs/jupyter/lib/python3.9/site-packages/requests/models.py\", line 1021, in raise_for_status\n",
      "    raise HTTPError(http_error_msg, response=self)\n",
      "requests.exceptions.HTTPError: 429 Client Error: Too Many Requests for url: https://s5phub.copernicus.eu/dhus/odata/v1/Products('b1c97441-7815-401d-9e49-baf704fd16b4')/$value\n",
      "\n",
      "During handling of the above exception, another exception occurred:\n",
      "\n",
      "Traceback (most recent call last):\n",
      "  File \"/ddn/gs1/home/dawr2/.local/lib/python3.9/site-packages/sentinelsat/download.py\", line 700, in _download_online_retry\n",
      "    return self.download(uuid, directory, stop_event=stop_event)\n",
      "  File \"/ddn/gs1/home/dawr2/.local/lib/python3.9/site-packages/sentinelsat/download.py\", line 136, in download\n",
      "    filename = self.api._get_filename(product_info)\n",
      "  File \"/ddn/gs1/home/dawr2/.local/lib/python3.9/site-packages/sentinelsat/sentinel.py\", line 602, in _get_filename\n",
      "    self._check_scihub_response(req, test_json=False)\n",
      "  File \"/ddn/gs1/home/dawr2/.local/lib/python3.9/site-packages/sentinelsat/sentinel.py\", line 1071, in _check_scihub_response\n",
      "    raise SentinelAPIError(msg, response)\n",
      "sentinelsat.exceptions.SentinelAPIError: HTTP status 429 Too Many Requests: \n",
      "There was an error downloading S5P_OFFL_L2__NO2____20230705T123947_20230705T142116_29668_03_020500_20230707T024839\n",
      "Traceback (most recent call last):\n",
      "  File \"/ddn/gs1/home/dawr2/.local/lib/python3.9/site-packages/sentinelsat/sentinel.py\", line 1023, in _check_scihub_response\n",
      "    response.raise_for_status()\n",
      "  File \"/home/jupyter/.conda/envs/jupyter/lib/python3.9/site-packages/requests/models.py\", line 1021, in raise_for_status\n",
      "    raise HTTPError(http_error_msg, response=self)\n",
      "requests.exceptions.HTTPError: 429 Client Error: Too Many Requests for url: https://s5phub.copernicus.eu/dhus/odata/v1/Products('a6e928f8-7415-4d07-96fe-c3af380926ea')/$value\n",
      "\n",
      "During handling of the above exception, another exception occurred:\n",
      "\n",
      "Traceback (most recent call last):\n",
      "  File \"/ddn/gs1/home/dawr2/.local/lib/python3.9/site-packages/sentinelsat/download.py\", line 700, in _download_online_retry\n",
      "    return self.download(uuid, directory, stop_event=stop_event)\n",
      "  File \"/ddn/gs1/home/dawr2/.local/lib/python3.9/site-packages/sentinelsat/download.py\", line 136, in download\n",
      "    filename = self.api._get_filename(product_info)\n",
      "  File \"/ddn/gs1/home/dawr2/.local/lib/python3.9/site-packages/sentinelsat/sentinel.py\", line 602, in _get_filename\n",
      "    self._check_scihub_response(req, test_json=False)\n",
      "  File \"/ddn/gs1/home/dawr2/.local/lib/python3.9/site-packages/sentinelsat/sentinel.py\", line 1071, in _check_scihub_response\n",
      "    raise SentinelAPIError(msg, response)\n",
      "sentinelsat.exceptions.SentinelAPIError: HTTP status 429 Too Many Requests: \n"
     ]
    },
    {
     "data": {
      "application/vnd.jupyter.widget-view+json": {
       "model_id": "e819327e9c4d42d3bf9f818ccc56e138",
       "version_major": 2,
       "version_minor": 0
      },
      "text/plain": [
       "Downloading S5P_OFFL_L2__NO2____20230705T123947_20230705T142116_29668_03_020500_20230707T024839.nc:   0%|     …"
      ]
     },
     "metadata": {},
     "output_type": "display_data"
    },
    {
     "data": {
      "application/vnd.jupyter.widget-view+json": {
       "model_id": "7b7d07c51d634f6c9692cd05ebaddcff",
       "version_major": 2,
       "version_minor": 0
      },
      "text/plain": [
       "Downloading S5P_OFFL_L2__NO2____20230711T154944_20230711T173114_29755_03_020500_20230713T074213.nc:   0%|     …"
      ]
     },
     "metadata": {},
     "output_type": "display_data"
    },
    {
     "data": {
      "application/vnd.jupyter.widget-view+json": {
       "model_id": "",
       "version_major": 2,
       "version_minor": 0
      },
      "text/plain": [
       "MD5 checksumming:   0%|          | 0.00/608M [00:00<?, ?B/s]"
      ]
     },
     "metadata": {},
     "output_type": "display_data"
    },
    {
     "data": {
      "application/vnd.jupyter.widget-view+json": {
       "model_id": "e3c32c86425b48c7a8e1ad9939c69b2a",
       "version_major": 2,
       "version_minor": 0
      },
      "text/plain": [
       "Downloading S5P_OFFL_L2__NO2____20230703T164055_20230703T182225_29642_03_020500_20230705T084526.nc:   0%|     …"
      ]
     },
     "metadata": {},
     "output_type": "display_data"
    },
    {
     "data": {
      "application/vnd.jupyter.widget-view+json": {
       "model_id": "",
       "version_major": 2,
       "version_minor": 0
      },
      "text/plain": [
       "MD5 checksumming:   0%|          | 0.00/16.4M [00:00<?, ?B/s]"
      ]
     },
     "metadata": {},
     "output_type": "display_data"
    },
    {
     "name": "stderr",
     "output_type": "stream",
     "text": [
      "Invalid checksum. The downloaded file for 'S5P_OFFL_L2__NO2____20230712T102610_20230712T120739_29766_03_020500_20230714T024256' is corrupted.\n"
     ]
    },
    {
     "data": {
      "application/vnd.jupyter.widget-view+json": {
       "model_id": "",
       "version_major": 2,
       "version_minor": 0
      },
      "text/plain": [
       "MD5 checksumming:   0%|          | 0.00/17.2M [00:00<?, ?B/s]"
      ]
     },
     "metadata": {},
     "output_type": "display_data"
    },
    {
     "name": "stderr",
     "output_type": "stream",
     "text": [
      "Invalid checksum. The downloaded file for 'S5P_OFFL_L2__NO2____20230716T224143_20230717T002312_29830_03_020500_20230720T140959' is corrupted.\n"
     ]
    },
    {
     "data": {
      "application/vnd.jupyter.widget-view+json": {
       "model_id": "305306e6629b4331a74921bb7a312cab",
       "version_major": 2,
       "version_minor": 0
      },
      "text/plain": [
       "Downloading S5P_OFFL_L2__NO2____20230712T102610_20230712T120739_29766_03_020500_20230714T024256.nc:   0%|     …"
      ]
     },
     "metadata": {},
     "output_type": "display_data"
    },
    {
     "data": {
      "application/vnd.jupyter.widget-view+json": {
       "model_id": "87d7e14c565a43cb8b500e4267a52e3c",
       "version_major": 2,
       "version_minor": 0
      },
      "text/plain": [
       "Downloading S5P_OFFL_L2__NO2____20230716T224143_20230717T002312_29830_03_020500_20230720T140959.nc:   0%|     …"
      ]
     },
     "metadata": {},
     "output_type": "display_data"
    },
    {
     "data": {
      "application/vnd.jupyter.widget-view+json": {
       "model_id": "",
       "version_major": 2,
       "version_minor": 0
      },
      "text/plain": [
       "MD5 checksumming:   0%|          | 0.00/27.5M [00:00<?, ?B/s]"
      ]
     },
     "metadata": {},
     "output_type": "display_data"
    },
    {
     "name": "stderr",
     "output_type": "stream",
     "text": [
      "Invalid checksum. The downloaded file for 'S5P_OFFL_L2__NO2____20230705T123947_20230705T142116_29668_03_020500_20230707T024839' is corrupted.\n"
     ]
    },
    {
     "data": {
      "application/vnd.jupyter.widget-view+json": {
       "model_id": "c156e18dff2e44749e4a3b0294217862",
       "version_major": 2,
       "version_minor": 0
      },
      "text/plain": [
       "Downloading S5P_OFFL_L2__NO2____20230705T123947_20230705T142116_29668_03_020500_20230707T024839.nc:   0%|     …"
      ]
     },
     "metadata": {},
     "output_type": "display_data"
    },
    {
     "data": {
      "application/vnd.jupyter.widget-view+json": {
       "model_id": "",
       "version_major": 2,
       "version_minor": 0
      },
      "text/plain": [
       "MD5 checksumming:   0%|          | 0.00/608M [00:00<?, ?B/s]"
      ]
     },
     "metadata": {},
     "output_type": "display_data"
    },
    {
     "data": {
      "application/vnd.jupyter.widget-view+json": {
       "model_id": "e0237268da304a7f99966fe7f61c12fb",
       "version_major": 2,
       "version_minor": 0
      },
      "text/plain": [
       "Downloading S5P_OFFL_L2__NO2____20230710T023653_20230710T041822_29733_03_020500_20230711T182350.nc:   0%|     …"
      ]
     },
     "metadata": {},
     "output_type": "display_data"
    },
    {
     "data": {
      "application/vnd.jupyter.widget-view+json": {
       "model_id": "",
       "version_major": 2,
       "version_minor": 0
      },
      "text/plain": [
       "MD5 checksumming:   0%|          | 0.00/610M [00:00<?, ?B/s]"
      ]
     },
     "metadata": {},
     "output_type": "display_data"
    },
    {
     "data": {
      "application/vnd.jupyter.widget-view+json": {
       "model_id": "81ece62f2a7b43c9a0ed420c9a202eb8",
       "version_major": 2,
       "version_minor": 0
      },
      "text/plain": [
       "Downloading S5P_OFFL_L2__NO2____20230701T034707_20230701T052837_29606_03_020500_20230702T194726.nc:   0%|     …"
      ]
     },
     "metadata": {},
     "output_type": "display_data"
    },
    {
     "data": {
      "application/vnd.jupyter.widget-view+json": {
       "model_id": "",
       "version_major": 2,
       "version_minor": 0
      },
      "text/plain": [
       "MD5 checksumming:   0%|          | 0.00/29.7M [00:00<?, ?B/s]"
      ]
     },
     "metadata": {},
     "output_type": "display_data"
    },
    {
     "name": "stderr",
     "output_type": "stream",
     "text": [
      "Invalid checksum. The downloaded file for 'S5P_OFFL_L2__NO2____20230705T123947_20230705T142116_29668_03_020500_20230707T024839' is corrupted.\n"
     ]
    },
    {
     "data": {
      "application/vnd.jupyter.widget-view+json": {
       "model_id": "06612f249f934bcf94f00a39dc215a6d",
       "version_major": 2,
       "version_minor": 0
      },
      "text/plain": [
       "Downloading S5P_OFFL_L2__NO2____20230705T123947_20230705T142116_29668_03_020500_20230707T024839.nc:   0%|     …"
      ]
     },
     "metadata": {},
     "output_type": "display_data"
    },
    {
     "data": {
      "application/vnd.jupyter.widget-view+json": {
       "model_id": "",
       "version_major": 2,
       "version_minor": 0
      },
      "text/plain": [
       "MD5 checksumming:   0%|          | 0.00/30.3M [00:00<?, ?B/s]"
      ]
     },
     "metadata": {},
     "output_type": "display_data"
    },
    {
     "data": {
      "application/vnd.jupyter.widget-view+json": {
       "model_id": "",
       "version_major": 2,
       "version_minor": 0
      },
      "text/plain": [
       "MD5 checksumming:   0%|          | 0.00/20.9M [00:00<?, ?B/s]"
      ]
     },
     "metadata": {},
     "output_type": "display_data"
    },
    {
     "name": "stderr",
     "output_type": "stream",
     "text": [
      "Invalid checksum. The downloaded file for 'S5P_OFFL_L2__NO2____20230712T102610_20230712T120739_29766_03_020500_20230714T024256' is corrupted.\n",
      "Invalid checksum. The downloaded file for 'S5P_OFFL_L2__NO2____20230716T224143_20230717T002312_29830_03_020500_20230720T140959' is corrupted.\n"
     ]
    },
    {
     "data": {
      "application/vnd.jupyter.widget-view+json": {
       "model_id": "c6e3928aa8f645d2bf4fb8b28253e2d3",
       "version_major": 2,
       "version_minor": 0
      },
      "text/plain": [
       "Downloading S5P_OFFL_L2__NO2____20230712T102610_20230712T120739_29766_03_020500_20230714T024256.nc:   0%|     …"
      ]
     },
     "metadata": {},
     "output_type": "display_data"
    },
    {
     "data": {
      "application/vnd.jupyter.widget-view+json": {
       "model_id": "6801e922877d41ebb0a3e83c1ff5fb01",
       "version_major": 2,
       "version_minor": 0
      },
      "text/plain": [
       "Downloading S5P_OFFL_L2__NO2____20230716T224143_20230717T002312_29830_03_020500_20230720T140959.nc:   0%|     …"
      ]
     },
     "metadata": {},
     "output_type": "display_data"
    },
    {
     "data": {
      "application/vnd.jupyter.widget-view+json": {
       "model_id": "",
       "version_major": 2,
       "version_minor": 0
      },
      "text/plain": [
       "MD5 checksumming:   0%|          | 0.00/90.9M [00:00<?, ?B/s]"
      ]
     },
     "metadata": {},
     "output_type": "display_data"
    },
    {
     "data": {
      "application/vnd.jupyter.widget-view+json": {
       "model_id": "7beb0a5115bb40738b6e3e45ef0ddadf",
       "version_major": 2,
       "version_minor": 0
      },
      "text/plain": [
       "Downloading S5P_OFFL_L2__NO2____20230708T215129_20230708T233259_29716_03_020500_20230710T135920.nc:   0%|     …"
      ]
     },
     "metadata": {},
     "output_type": "display_data"
    },
    {
     "data": {
      "application/vnd.jupyter.widget-view+json": {
       "model_id": "",
       "version_major": 2,
       "version_minor": 0
      },
      "text/plain": [
       "MD5 checksumming:   0%|          | 0.00/612M [00:00<?, ?B/s]"
      ]
     },
     "metadata": {},
     "output_type": "display_data"
    },
    {
     "data": {
      "application/vnd.jupyter.widget-view+json": {
       "model_id": "1320471081c84b9f89b00d334232ad05",
       "version_major": 2,
       "version_minor": 0
      },
      "text/plain": [
       "Downloading S5P_OFFL_L2__NO2____20230706T103912_20230706T122042_29681_03_020500_20230708T025311.nc:   0%|     …"
      ]
     },
     "metadata": {},
     "output_type": "display_data"
    },
    {
     "data": {
      "application/vnd.jupyter.widget-view+json": {
       "model_id": "",
       "version_major": 2,
       "version_minor": 0
      },
      "text/plain": [
       "MD5 checksumming:   0%|          | 0.00/608M [00:00<?, ?B/s]"
      ]
     },
     "metadata": {},
     "output_type": "display_data"
    },
    {
     "data": {
      "application/vnd.jupyter.widget-view+json": {
       "model_id": "f4c16f0941f943f4b695692342a51c33",
       "version_major": 2,
       "version_minor": 0
      },
      "text/plain": [
       "Downloading S5P_OFFL_L2__NO2____20230703T182225_20230703T200355_29643_03_020500_20230705T102721.nc:   0%|     …"
      ]
     },
     "metadata": {},
     "output_type": "display_data"
    },
    {
     "data": {
      "application/vnd.jupyter.widget-view+json": {
       "model_id": "",
       "version_major": 2,
       "version_minor": 0
      },
      "text/plain": [
       "MD5 checksumming:   0%|          | 0.00/27.5M [00:00<?, ?B/s]"
      ]
     },
     "metadata": {},
     "output_type": "display_data"
    },
    {
     "data": {
      "application/vnd.jupyter.widget-view+json": {
       "model_id": "",
       "version_major": 2,
       "version_minor": 0
      },
      "text/plain": [
       "MD5 checksumming:   0%|          | 0.00/15.7M [00:00<?, ?B/s]"
      ]
     },
     "metadata": {},
     "output_type": "display_data"
    },
    {
     "name": "stderr",
     "output_type": "stream",
     "text": [
      "Invalid checksum. The downloaded file for 'S5P_OFFL_L2__NO2____20230716T224143_20230717T002312_29830_03_020500_20230720T140959' is corrupted.\n",
      "Invalid checksum. The downloaded file for 'S5P_OFFL_L2__NO2____20230712T102610_20230712T120739_29766_03_020500_20230714T024256' is corrupted.\n"
     ]
    },
    {
     "data": {
      "application/vnd.jupyter.widget-view+json": {
       "model_id": "405cacae4ba64f608876f9543c4f9159",
       "version_major": 2,
       "version_minor": 0
      },
      "text/plain": [
       "Downloading S5P_OFFL_L2__NO2____20230712T102610_20230712T120739_29766_03_020500_20230714T024256.nc:   0%|     …"
      ]
     },
     "metadata": {},
     "output_type": "display_data"
    },
    {
     "name": "stderr",
     "output_type": "stream",
     "text": [
      "There was an error downloading S5P_OFFL_L2__NO2____20230712T102610_20230712T120739_29766_03_020500_20230714T024256\n",
      "Traceback (most recent call last):\n",
      "  File \"/ddn/gs1/home/dawr2/.local/lib/python3.9/site-packages/sentinelsat/sentinel.py\", line 1023, in _check_scihub_response\n",
      "    response.raise_for_status()\n",
      "  File \"/home/jupyter/.conda/envs/jupyter/lib/python3.9/site-packages/requests/models.py\", line 1021, in raise_for_status\n",
      "    raise HTTPError(http_error_msg, response=self)\n",
      "requests.exceptions.HTTPError: 429 Client Error: Too Many Requests for url: https://s5phub.copernicus.eu/dhus/odata/v1/Products('af7543fc-4215-4400-897d-06bbbb9a7457')/$value\n",
      "\n",
      "During handling of the above exception, another exception occurred:\n",
      "\n",
      "Traceback (most recent call last):\n",
      "  File \"/ddn/gs1/home/dawr2/.local/lib/python3.9/site-packages/sentinelsat/download.py\", line 700, in _download_online_retry\n",
      "    return self.download(uuid, directory, stop_event=stop_event)\n",
      "  File \"/ddn/gs1/home/dawr2/.local/lib/python3.9/site-packages/sentinelsat/download.py\", line 150, in download\n",
      "    self._download_common(product_info, path, stop_event)\n",
      "  File \"/ddn/gs1/home/dawr2/.local/lib/python3.9/site-packages/sentinelsat/download.py\", line 218, in _download_common\n",
      "    product_info[\"downloaded_bytes\"] = self._download(\n",
      "  File \"/ddn/gs1/home/dawr2/.local/lib/python3.9/site-packages/sentinelsat/download.py\", line 741, in _download\n",
      "    self.api._check_scihub_response(r, test_json=False)\n",
      "  File \"/ddn/gs1/home/dawr2/.local/lib/python3.9/site-packages/sentinelsat/sentinel.py\", line 1069, in _check_scihub_response\n",
      "    raise ServerError(msg, response)\n",
      "sentinelsat.exceptions.ServerError: HTTP status 429 Too Many Requests: \n",
      "# 429 Too Many Requests\n",
      "\n",
      "You have sent too many requests in a given amount of time.\n"
     ]
    },
    {
     "data": {
      "application/vnd.jupyter.widget-view+json": {
       "model_id": "446aad69f2ee437a8fa2e26fa7c81694",
       "version_major": 2,
       "version_minor": 0
      },
      "text/plain": [
       "Downloading S5P_OFFL_L2__NO2____20230716T224143_20230717T002312_29830_03_020500_20230720T140959.nc:   0%|     …"
      ]
     },
     "metadata": {},
     "output_type": "display_data"
    },
    {
     "data": {
      "application/vnd.jupyter.widget-view+json": {
       "model_id": "d7fcc90e97294effa257a616537bdf1e",
       "version_major": 2,
       "version_minor": 0
      },
      "text/plain": [
       "Downloading S5P_OFFL_L2__NO2____20230712T102610_20230712T120739_29766_03_020500_20230714T024256.nc:   0%|     …"
      ]
     },
     "metadata": {},
     "output_type": "display_data"
    },
    {
     "data": {
      "application/vnd.jupyter.widget-view+json": {
       "model_id": "",
       "version_major": 2,
       "version_minor": 0
      },
      "text/plain": [
       "MD5 checksumming:   0%|          | 0.00/116M [00:00<?, ?B/s]"
      ]
     },
     "metadata": {},
     "output_type": "display_data"
    },
    {
     "name": "stderr",
     "output_type": "stream",
     "text": [
      "Invalid checksum. The downloaded file for 'S5P_OFFL_L2__NO2____20230708T215129_20230708T233259_29716_03_020500_20230710T135920' is corrupted.\n"
     ]
    },
    {
     "data": {
      "application/vnd.jupyter.widget-view+json": {
       "model_id": "636e273a24c043e681d31adce354fde8",
       "version_major": 2,
       "version_minor": 0
      },
      "text/plain": [
       "Downloading S5P_OFFL_L2__NO2____20230708T215129_20230708T233259_29716_03_020500_20230710T135920.nc:   0%|     …"
      ]
     },
     "metadata": {},
     "output_type": "display_data"
    },
    {
     "data": {
      "application/vnd.jupyter.widget-view+json": {
       "model_id": "",
       "version_major": 2,
       "version_minor": 0
      },
      "text/plain": [
       "MD5 checksumming:   0%|          | 0.00/614M [00:00<?, ?B/s]"
      ]
     },
     "metadata": {},
     "output_type": "display_data"
    },
    {
     "data": {
      "application/vnd.jupyter.widget-view+json": {
       "model_id": "5b75190756b4430180b8b58d78b25824",
       "version_major": 2,
       "version_minor": 0
      },
      "text/plain": [
       "Downloading S5P_OFFL_L2__NO2____20230702T133701_20230702T151830_29626_03_020500_20230704T054633.nc:   0%|     …"
      ]
     },
     "metadata": {},
     "output_type": "display_data"
    },
    {
     "data": {
      "application/vnd.jupyter.widget-view+json": {
       "model_id": "",
       "version_major": 2,
       "version_minor": 0
      },
      "text/plain": [
       "MD5 checksumming:   0%|          | 0.00/605M [00:00<?, ?B/s]"
      ]
     },
     "metadata": {},
     "output_type": "display_data"
    },
    {
     "data": {
      "application/vnd.jupyter.widget-view+json": {
       "model_id": "c60a6406c46a4493a46246977a285179",
       "version_major": 2,
       "version_minor": 0
      },
      "text/plain": [
       "Downloading S5P_OFFL_L2__NO2____20230703T232654_20230704T010824_29646_03_020500_20230705T151900.nc:   0%|     …"
      ]
     },
     "metadata": {},
     "output_type": "display_data"
    },
    {
     "data": {
      "application/vnd.jupyter.widget-view+json": {
       "model_id": "",
       "version_major": 2,
       "version_minor": 0
      },
      "text/plain": [
       "MD5 checksumming:   0%|          | 0.00/14.4M [00:00<?, ?B/s]"
      ]
     },
     "metadata": {},
     "output_type": "display_data"
    },
    {
     "name": "stderr",
     "output_type": "stream",
     "text": [
      "Invalid checksum. The downloaded file for 'S5P_OFFL_L2__NO2____20230716T224143_20230717T002312_29830_03_020500_20230720T140959' is corrupted.\n"
     ]
    },
    {
     "data": {
      "application/vnd.jupyter.widget-view+json": {
       "model_id": "",
       "version_major": 2,
       "version_minor": 0
      },
      "text/plain": [
       "MD5 checksumming:   0%|          | 0.00/21.1M [00:00<?, ?B/s]"
      ]
     },
     "metadata": {},
     "output_type": "display_data"
    },
    {
     "name": "stderr",
     "output_type": "stream",
     "text": [
      "Invalid checksum. The downloaded file for 'S5P_OFFL_L2__NO2____20230712T102610_20230712T120739_29766_03_020500_20230714T024256' is corrupted.\n"
     ]
    },
    {
     "data": {
      "application/vnd.jupyter.widget-view+json": {
       "model_id": "d6bfb07a39924b479239e8b80c09fbde",
       "version_major": 2,
       "version_minor": 0
      },
      "text/plain": [
       "Downloading S5P_OFFL_L2__NO2____20230716T224143_20230717T002312_29830_03_020500_20230720T140959.nc:   0%|     …"
      ]
     },
     "metadata": {},
     "output_type": "display_data"
    },
    {
     "data": {
      "application/vnd.jupyter.widget-view+json": {
       "model_id": "49607fac74e1492db7a7c466859e11a3",
       "version_major": 2,
       "version_minor": 0
      },
      "text/plain": [
       "Downloading S5P_OFFL_L2__NO2____20230712T102610_20230712T120739_29766_03_020500_20230714T024256.nc:   0%|     …"
      ]
     },
     "metadata": {},
     "output_type": "display_data"
    },
    {
     "data": {
      "application/vnd.jupyter.widget-view+json": {
       "model_id": "",
       "version_major": 2,
       "version_minor": 0
      },
      "text/plain": [
       "MD5 checksumming:   0%|          | 0.00/18.3M [00:00<?, ?B/s]"
      ]
     },
     "metadata": {},
     "output_type": "display_data"
    },
    {
     "name": "stderr",
     "output_type": "stream",
     "text": [
      "Invalid checksum. The downloaded file for 'S5P_OFFL_L2__NO2____20230708T215129_20230708T233259_29716_03_020500_20230710T135920' is corrupted.\n"
     ]
    },
    {
     "data": {
      "application/vnd.jupyter.widget-view+json": {
       "model_id": "20545afc34f543f197ce1f3b39936728",
       "version_major": 2,
       "version_minor": 0
      },
      "text/plain": [
       "Downloading S5P_OFFL_L2__NO2____20230708T215129_20230708T233259_29716_03_020500_20230710T135920.nc:   0%|     …"
      ]
     },
     "metadata": {},
     "output_type": "display_data"
    },
    {
     "data": {
      "application/vnd.jupyter.widget-view+json": {
       "model_id": "",
       "version_major": 2,
       "version_minor": 0
      },
      "text/plain": [
       "MD5 checksumming:   0%|          | 0.00/602M [00:00<?, ?B/s]"
      ]
     },
     "metadata": {},
     "output_type": "display_data"
    },
    {
     "data": {
      "application/vnd.jupyter.widget-view+json": {
       "model_id": "6b86c5534d9342d7b1cc862ee89cc686",
       "version_major": 2,
       "version_minor": 0
      },
      "text/plain": [
       "Downloading S5P_OFFL_L2__NO2____20230712T153038_20230712T171208_29769_03_020500_20230714T071930.nc:   0%|     …"
      ]
     },
     "metadata": {},
     "output_type": "display_data"
    },
    {
     "data": {
      "application/vnd.jupyter.widget-view+json": {
       "model_id": "",
       "version_major": 2,
       "version_minor": 0
      },
      "text/plain": [
       "MD5 checksumming:   0%|          | 0.00/603M [00:00<?, ?B/s]"
      ]
     },
     "metadata": {},
     "output_type": "display_data"
    },
    {
     "data": {
      "application/vnd.jupyter.widget-view+json": {
       "model_id": "3e485c81bc594492b7c0ff06fd2ac65b",
       "version_major": 2,
       "version_minor": 0
      },
      "text/plain": [
       "Downloading S5P_OFFL_L2__NO2____20230713T165302_20230713T183432_29784_03_020500_20230715T085259.nc:   0%|     …"
      ]
     },
     "metadata": {},
     "output_type": "display_data"
    },
    {
     "data": {
      "application/vnd.jupyter.widget-view+json": {
       "model_id": "",
       "version_major": 2,
       "version_minor": 0
      },
      "text/plain": [
       "MD5 checksumming:   0%|          | 0.00/21.8M [00:00<?, ?B/s]"
      ]
     },
     "metadata": {},
     "output_type": "display_data"
    },
    {
     "name": "stderr",
     "output_type": "stream",
     "text": [
      "Invalid checksum. The downloaded file for 'S5P_OFFL_L2__NO2____20230716T224143_20230717T002312_29830_03_020500_20230720T140959' is corrupted.\n"
     ]
    },
    {
     "data": {
      "application/vnd.jupyter.widget-view+json": {
       "model_id": "",
       "version_major": 2,
       "version_minor": 0
      },
      "text/plain": [
       "MD5 checksumming:   0%|          | 0.00/18.8M [00:00<?, ?B/s]"
      ]
     },
     "metadata": {},
     "output_type": "display_data"
    },
    {
     "name": "stderr",
     "output_type": "stream",
     "text": [
      "Invalid checksum. The downloaded file for 'S5P_OFFL_L2__NO2____20230712T102610_20230712T120739_29766_03_020500_20230714T024256' is corrupted.\n"
     ]
    },
    {
     "data": {
      "application/vnd.jupyter.widget-view+json": {
       "model_id": "42d1a9b4d643437c9ef749f60b90872f",
       "version_major": 2,
       "version_minor": 0
      },
      "text/plain": [
       "Downloading S5P_OFFL_L2__NO2____20230716T224143_20230717T002312_29830_03_020500_20230720T140959.nc:   0%|     …"
      ]
     },
     "metadata": {},
     "output_type": "display_data"
    },
    {
     "data": {
      "application/vnd.jupyter.widget-view+json": {
       "model_id": "3f121f0f89384c3bb69fea7f1b11bc34",
       "version_major": 2,
       "version_minor": 0
      },
      "text/plain": [
       "Downloading S5P_OFFL_L2__NO2____20230712T102610_20230712T120739_29766_03_020500_20230714T024256.nc:   0%|     …"
      ]
     },
     "metadata": {},
     "output_type": "display_data"
    },
    {
     "data": {
      "application/vnd.jupyter.widget-view+json": {
       "model_id": "",
       "version_major": 2,
       "version_minor": 0
      },
      "text/plain": [
       "MD5 checksumming:   0%|          | 0.00/26.8M [00:00<?, ?B/s]"
      ]
     },
     "metadata": {},
     "output_type": "display_data"
    },
    {
     "name": "stderr",
     "output_type": "stream",
     "text": [
      "Invalid checksum. The downloaded file for 'S5P_OFFL_L2__NO2____20230708T215129_20230708T233259_29716_03_020500_20230710T135920' is corrupted.\n"
     ]
    },
    {
     "data": {
      "application/vnd.jupyter.widget-view+json": {
       "model_id": "27ed0ed1b94a4715af28759120f4da6a",
       "version_major": 2,
       "version_minor": 0
      },
      "text/plain": [
       "Downloading S5P_OFFL_L2__NO2____20230708T215129_20230708T233259_29716_03_020500_20230710T135920.nc:   0%|     …"
      ]
     },
     "metadata": {},
     "output_type": "display_data"
    },
    {
     "data": {
      "application/vnd.jupyter.widget-view+json": {
       "model_id": "",
       "version_major": 2,
       "version_minor": 0
      },
      "text/plain": [
       "MD5 checksumming:   0%|          | 0.00/617M [00:00<?, ?B/s]"
      ]
     },
     "metadata": {},
     "output_type": "display_data"
    },
    {
     "data": {
      "application/vnd.jupyter.widget-view+json": {
       "model_id": "2b78b1cdc5594b098ec5da2a30fdedfd",
       "version_major": 2,
       "version_minor": 0
      },
      "text/plain": [
       "Downloading S5P_OFFL_L2__NO2____20230709T162755_20230709T180925_29727_03_020500_20230711T083103.nc:   0%|     …"
      ]
     },
     "metadata": {},
     "output_type": "display_data"
    },
    {
     "data": {
      "application/vnd.jupyter.widget-view+json": {
       "model_id": "",
       "version_major": 2,
       "version_minor": 0
      },
      "text/plain": [
       "MD5 checksumming:   0%|          | 0.00/611M [00:00<?, ?B/s]"
      ]
     },
     "metadata": {},
     "output_type": "display_data"
    },
    {
     "data": {
      "application/vnd.jupyter.widget-view+json": {
       "model_id": "06f7272ed3f740e8bed7a538b0081f11",
       "version_major": 2,
       "version_minor": 0
      },
      "text/plain": [
       "Downloading S5P_OFFL_L2__NO2____20230704T010824_20230704T024953_29647_03_020500_20230705T170520.nc:   0%|     …"
      ]
     },
     "metadata": {},
     "output_type": "display_data"
    },
    {
     "data": {
      "application/vnd.jupyter.widget-view+json": {
       "model_id": "",
       "version_major": 2,
       "version_minor": 0
      },
      "text/plain": [
       "MD5 checksumming:   0%|          | 0.00/52.1M [00:00<?, ?B/s]"
      ]
     },
     "metadata": {},
     "output_type": "display_data"
    },
    {
     "name": "stderr",
     "output_type": "stream",
     "text": [
      "Invalid checksum. The downloaded file for 'S5P_OFFL_L2__NO2____20230716T224143_20230717T002312_29830_03_020500_20230720T140959' is corrupted.\n"
     ]
    },
    {
     "data": {
      "application/vnd.jupyter.widget-view+json": {
       "model_id": "",
       "version_major": 2,
       "version_minor": 0
      },
      "text/plain": [
       "MD5 checksumming:   0%|          | 0.00/65.3M [00:00<?, ?B/s]"
      ]
     },
     "metadata": {},
     "output_type": "display_data"
    },
    {
     "name": "stderr",
     "output_type": "stream",
     "text": [
      "Invalid checksum. The downloaded file for 'S5P_OFFL_L2__NO2____20230712T102610_20230712T120739_29766_03_020500_20230714T024256' is corrupted.\n"
     ]
    },
    {
     "data": {
      "application/vnd.jupyter.widget-view+json": {
       "model_id": "68bd412e0aa54231974fb11cce2e04a8",
       "version_major": 2,
       "version_minor": 0
      },
      "text/plain": [
       "Downloading S5P_OFFL_L2__NO2____20230716T224143_20230717T002312_29830_03_020500_20230720T140959.nc:   0%|     …"
      ]
     },
     "metadata": {},
     "output_type": "display_data"
    },
    {
     "data": {
      "application/vnd.jupyter.widget-view+json": {
       "model_id": "d54892b7fb3e411d8304200925a6fa04",
       "version_major": 2,
       "version_minor": 0
      },
      "text/plain": [
       "Downloading S5P_OFFL_L2__NO2____20230712T102610_20230712T120739_29766_03_020500_20230714T024256.nc:   0%|     …"
      ]
     },
     "metadata": {},
     "output_type": "display_data"
    },
    {
     "data": {
      "application/vnd.jupyter.widget-view+json": {
       "model_id": "",
       "version_major": 2,
       "version_minor": 0
      },
      "text/plain": [
       "MD5 checksumming:   0%|          | 0.00/25.3M [00:00<?, ?B/s]"
      ]
     },
     "metadata": {},
     "output_type": "display_data"
    },
    {
     "name": "stderr",
     "output_type": "stream",
     "text": [
      "Invalid checksum. The downloaded file for 'S5P_OFFL_L2__NO2____20230708T215129_20230708T233259_29716_03_020500_20230710T135920' is corrupted.\n"
     ]
    },
    {
     "data": {
      "application/vnd.jupyter.widget-view+json": {
       "model_id": "e04f88b9f439474988612efc7482173f",
       "version_major": 2,
       "version_minor": 0
      },
      "text/plain": [
       "Downloading S5P_OFFL_L2__NO2____20230708T215129_20230708T233259_29716_03_020500_20230710T135920.nc:   0%|     …"
      ]
     },
     "metadata": {},
     "output_type": "display_data"
    },
    {
     "data": {
      "application/vnd.jupyter.widget-view+json": {
       "model_id": "",
       "version_major": 2,
       "version_minor": 0
      },
      "text/plain": [
       "MD5 checksumming:   0%|          | 0.00/605M [00:00<?, ?B/s]"
      ]
     },
     "metadata": {},
     "output_type": "display_data"
    },
    {
     "data": {
      "application/vnd.jupyter.widget-view+json": {
       "model_id": "fc5a155b0f2e4dd2a6d58056c99979b9",
       "version_major": 2,
       "version_minor": 0
      },
      "text/plain": [
       "Downloading S5P_OFFL_L2__NO2____20230717T020442_20230717T034611_29832_03_020500_20230720T141325.nc:   0%|     …"
      ]
     },
     "metadata": {},
     "output_type": "display_data"
    },
    {
     "data": {
      "application/vnd.jupyter.widget-view+json": {
       "model_id": "",
       "version_major": 2,
       "version_minor": 0
      },
      "text/plain": [
       "MD5 checksumming:   0%|          | 0.00/17.2M [00:00<?, ?B/s]"
      ]
     },
     "metadata": {},
     "output_type": "display_data"
    },
    {
     "name": "stderr",
     "output_type": "stream",
     "text": [
      "Invalid checksum. The downloaded file for 'S5P_OFFL_L2__NO2____20230716T224143_20230717T002312_29830_03_020500_20230720T140959' is corrupted.\n"
     ]
    },
    {
     "data": {
      "application/vnd.jupyter.widget-view+json": {
       "model_id": "",
       "version_major": 2,
       "version_minor": 0
      },
      "text/plain": [
       "MD5 checksumming:   0%|          | 0.00/600M [00:00<?, ?B/s]"
      ]
     },
     "metadata": {},
     "output_type": "display_data"
    },
    {
     "data": {
      "application/vnd.jupyter.widget-view+json": {
       "model_id": "cc6e40ff02b14ec9982a949ab0e9686c",
       "version_major": 2,
       "version_minor": 0
      },
      "text/plain": [
       "Downloading S5P_OFFL_L2__NO2____20230716T224143_20230717T002312_29830_03_020500_20230720T140959.nc:   0%|     …"
      ]
     },
     "metadata": {},
     "output_type": "display_data"
    },
    {
     "data": {
      "application/vnd.jupyter.widget-view+json": {
       "model_id": "b4ad705d0705413f878cd8812d800b74",
       "version_major": 2,
       "version_minor": 0
      },
      "text/plain": [
       "Downloading S5P_OFFL_L2__NO2____20230713T013936_20230713T032106_29775_03_020500_20230714T173041.nc:   0%|     …"
      ]
     },
     "metadata": {},
     "output_type": "display_data"
    },
    {
     "name": "stderr",
     "output_type": "stream",
     "text": [
      "There was an error downloading S5P_OFFL_L2__NO2____20230713T013936_20230713T032106_29775_03_020500_20230714T173041\n",
      "Traceback (most recent call last):\n",
      "  File \"/ddn/gs1/home/dawr2/.local/lib/python3.9/site-packages/sentinelsat/sentinel.py\", line 1023, in _check_scihub_response\n",
      "    response.raise_for_status()\n",
      "  File \"/home/jupyter/.conda/envs/jupyter/lib/python3.9/site-packages/requests/models.py\", line 1021, in raise_for_status\n",
      "    raise HTTPError(http_error_msg, response=self)\n",
      "requests.exceptions.HTTPError: 429 Client Error: Too Many Requests for url: https://s5phub.copernicus.eu/dhus/odata/v1/Products('08e27e06-4279-4242-843e-d823115466f4')/$value\n",
      "\n",
      "During handling of the above exception, another exception occurred:\n",
      "\n",
      "Traceback (most recent call last):\n",
      "  File \"/ddn/gs1/home/dawr2/.local/lib/python3.9/site-packages/sentinelsat/download.py\", line 700, in _download_online_retry\n",
      "    return self.download(uuid, directory, stop_event=stop_event)\n",
      "  File \"/ddn/gs1/home/dawr2/.local/lib/python3.9/site-packages/sentinelsat/download.py\", line 150, in download\n",
      "    self._download_common(product_info, path, stop_event)\n",
      "  File \"/ddn/gs1/home/dawr2/.local/lib/python3.9/site-packages/sentinelsat/download.py\", line 218, in _download_common\n",
      "    product_info[\"downloaded_bytes\"] = self._download(\n",
      "  File \"/ddn/gs1/home/dawr2/.local/lib/python3.9/site-packages/sentinelsat/download.py\", line 741, in _download\n",
      "    self.api._check_scihub_response(r, test_json=False)\n",
      "  File \"/ddn/gs1/home/dawr2/.local/lib/python3.9/site-packages/sentinelsat/sentinel.py\", line 1069, in _check_scihub_response\n",
      "    raise ServerError(msg, response)\n",
      "sentinelsat.exceptions.ServerError: HTTP status 429 Too Many Requests: \n",
      "# 429 Too Many Requests\n",
      "\n",
      "You have sent too many requests in a given amount of time.\n"
     ]
    },
    {
     "data": {
      "application/vnd.jupyter.widget-view+json": {
       "model_id": "87afd9f6d00e40f99fbbaa39004e1081",
       "version_major": 2,
       "version_minor": 0
      },
      "text/plain": [
       "Downloading S5P_OFFL_L2__NO2____20230713T013936_20230713T032106_29775_03_020500_20230714T173041.nc:   0%|     …"
      ]
     },
     "metadata": {},
     "output_type": "display_data"
    },
    {
     "data": {
      "application/vnd.jupyter.widget-view+json": {
       "model_id": "",
       "version_major": 2,
       "version_minor": 0
      },
      "text/plain": [
       "MD5 checksumming:   0%|          | 0.00/612M [00:00<?, ?B/s]"
      ]
     },
     "metadata": {},
     "output_type": "display_data"
    },
    {
     "data": {
      "application/vnd.jupyter.widget-view+json": {
       "model_id": "fc58895461384aa094c5afda327d8578",
       "version_major": 2,
       "version_minor": 0
      },
      "text/plain": [
       "Downloading S5P_OFFL_L2__NO2____20230716T173714_20230716T191844_29827_03_020500_20230720T142945.nc:   0%|     …"
      ]
     },
     "metadata": {},
     "output_type": "display_data"
    },
    {
     "data": {
      "application/vnd.jupyter.widget-view+json": {
       "model_id": "",
       "version_major": 2,
       "version_minor": 0
      },
      "text/plain": [
       "MD5 checksumming:   0%|          | 0.00/24.5M [00:00<?, ?B/s]"
      ]
     },
     "metadata": {},
     "output_type": "display_data"
    },
    {
     "name": "stderr",
     "output_type": "stream",
     "text": [
      "Invalid checksum. The downloaded file for 'S5P_OFFL_L2__NO2____20230712T102610_20230712T120739_29766_03_020500_20230714T024256' is corrupted.\n",
      "IOPub message rate exceeded.\n",
      "The notebook server will temporarily stop sending output\n",
      "to the client in order to avoid crashing it.\n",
      "To change this limit, set the config variable\n",
      "`--NotebookApp.iopub_msg_rate_limit`.\n",
      "\n",
      "Current values:\n",
      "NotebookApp.iopub_msg_rate_limit=1000.0 (msgs/sec)\n",
      "NotebookApp.rate_limit_window=3.0 (secs)\n",
      "\n"
     ]
    },
    {
     "data": {
      "application/vnd.jupyter.widget-view+json": {
       "model_id": "",
       "version_major": 2,
       "version_minor": 0
      },
      "text/plain": [
       "MD5 checksumming:   0%|          | 0.00/613M [00:00<?, ?B/s]"
      ]
     },
     "metadata": {},
     "output_type": "display_data"
    },
    {
     "data": {
      "application/vnd.jupyter.widget-view+json": {
       "model_id": "b5d8cb39741a4014833735ec29da11ae",
       "version_major": 2,
       "version_minor": 0
      },
      "text/plain": [
       "Downloading S5P_OFFL_L2__NO2____20230713T233901_20230714T012030_29788_03_020500_20230715T152800.nc:   0%|     …"
      ]
     },
     "metadata": {},
     "output_type": "display_data"
    },
    {
     "data": {
      "application/vnd.jupyter.widget-view+json": {
       "model_id": "",
       "version_major": 2,
       "version_minor": 0
      },
      "text/plain": [
       "MD5 checksumming:   0%|          | 0.00/600M [00:00<?, ?B/s]"
      ]
     },
     "metadata": {},
     "output_type": "display_data"
    },
    {
     "data": {
      "application/vnd.jupyter.widget-view+json": {
       "model_id": "18cfb4fc62c143a69566a43708ba4532",
       "version_major": 2,
       "version_minor": 0
      },
      "text/plain": [
       "Downloading S5P_OFFL_L2__NO2____20230712T235807_20230713T013936_29774_03_020500_20230714T154830.nc:   0%|     …"
      ]
     },
     "metadata": {},
     "output_type": "display_data"
    },
    {
     "data": {
      "application/vnd.jupyter.widget-view+json": {
       "model_id": "",
       "version_major": 2,
       "version_minor": 0
      },
      "text/plain": [
       "MD5 checksumming:   0%|          | 0.00/588M [00:00<?, ?B/s]"
      ]
     },
     "metadata": {},
     "output_type": "display_data"
    },
    {
     "data": {
      "application/vnd.jupyter.widget-view+json": {
       "model_id": "784cdaf88a1e4e57a03914065ba4e871",
       "version_major": 2,
       "version_minor": 0
      },
      "text/plain": [
       "Downloading S5P_OFFL_L2__NO2____20230711T122645_20230711T140815_29753_03_020500_20230713T044445.nc:   0%|     …"
      ]
     },
     "metadata": {},
     "output_type": "display_data"
    },
    {
     "data": {
      "application/vnd.jupyter.widget-view+json": {
       "model_id": "",
       "version_major": 2,
       "version_minor": 0
      },
      "text/plain": [
       "MD5 checksumming:   0%|          | 0.00/605M [00:00<?, ?B/s]"
      ]
     },
     "metadata": {},
     "output_type": "display_data"
    },
    {
     "data": {
      "application/vnd.jupyter.widget-view+json": {
       "model_id": "c247438a5457408aa673d8b051305189",
       "version_major": 2,
       "version_minor": 0
      },
      "text/plain": [
       "Downloading S5P_OFFL_L2__NO2____20230703T145926_20230703T164055_29641_03_020500_20230705T065843.nc:   0%|     …"
      ]
     },
     "metadata": {},
     "output_type": "display_data"
    },
    {
     "name": "stderr",
     "output_type": "stream",
     "text": [
      "IOPub message rate exceeded.\n",
      "The notebook server will temporarily stop sending output\n",
      "to the client in order to avoid crashing it.\n",
      "To change this limit, set the config variable\n",
      "`--NotebookApp.iopub_msg_rate_limit`.\n",
      "\n",
      "Current values:\n",
      "NotebookApp.iopub_msg_rate_limit=1000.0 (msgs/sec)\n",
      "NotebookApp.rate_limit_window=3.0 (secs)\n",
      "\n"
     ]
    },
    {
     "data": {
      "application/vnd.jupyter.widget-view+json": {
       "model_id": "",
       "version_major": 2,
       "version_minor": 0
      },
      "text/plain": [
       "MD5 checksumming:   0%|          | 0.00/603M [00:00<?, ?B/s]"
      ]
     },
     "metadata": {},
     "output_type": "display_data"
    },
    {
     "data": {
      "application/vnd.jupyter.widget-view+json": {
       "model_id": "53d9c604bae64c9cb3af4f7f95f127ea",
       "version_major": 2,
       "version_minor": 0
      },
      "text/plain": [
       "Downloading S5P_OFFL_L2__NO2____20230707T134306_20230707T152436_29697_03_020500_20230709T055226.nc:   0%|     …"
      ]
     },
     "metadata": {},
     "output_type": "display_data"
    }
   ],
   "source": [
    "# Execute search to find available TROPOMI L2 data files, with option to download files\n",
    "# Get values from widget menus (search parameters) using \".value\"\n",
    "\n",
    "# Main function\n",
    "\n",
    "# Set directory to save downloaded files (as pathlib.Path object)\n",
    "# Use current working directory for simplicity\n",
    "save_path = Path.cwd()\n",
    "\n",
    "# Get TROPOMI product abbreviation used in file name\n",
    "product_abbreviation = get_tropomi_product_abbreviation(product.value)\n",
    "\n",
    "# Change user-entered observation year/month/day for observation period to format used by Sentinel API\n",
    "start_date = convert_date_sentinel_api_format(start_year.value, start_month.value, start_day.value)\n",
    "end_date = convert_date_sentinel_api_format(end_year.value, end_month.value, end_day.value)\n",
    "\n",
    "# Convert latitude/longitude values entered as floats to string format used by Sentinel API\n",
    "west_lon = str(west_lon_float.value)\n",
    "east_lon = str(east_lon_float.value)\n",
    "south_lat = str(south_lat_float.value)\n",
    "north_lat = str(north_lat_float.value)\n",
    "\n",
    "# Execute script\n",
    "get_tropomi_files(west_lon, east_lon, south_lat, north_lat, start_date, end_date, product_abbreviation, latency.value, save_path)"
   ]
  }
 ],
 "metadata": {
  "kernelspec": {
   "display_name": "Python 3 (ipykernel)",
   "language": "python",
   "name": "python3"
  },
  "language_info": {
   "codemirror_mode": {
    "name": "ipython",
    "version": 3
   },
   "file_extension": ".py",
   "mimetype": "text/x-python",
   "name": "python",
   "nbconvert_exporter": "python",
   "pygments_lexer": "ipython3",
   "version": "3.9.5"
  }
 },
 "nbformat": 4,
 "nbformat_minor": 5
}
